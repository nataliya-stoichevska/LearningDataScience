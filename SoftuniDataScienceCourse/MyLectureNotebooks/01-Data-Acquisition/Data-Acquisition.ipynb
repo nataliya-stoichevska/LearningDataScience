{
 "cells": [
  {
   "cell_type": "markdown",
   "id": "0678177e",
   "metadata": {},
   "source": [
    "# Data Acquisition"
   ]
  },
  {
   "cell_type": "markdown",
   "id": "7e1e2ba2",
   "metadata": {},
   "source": [
    "<strong>Data acquisition</strong> (commonly abbreviated as <strong>DAQ</strong> or DAS) is the process of sampling signals that measure real-world physical phenomena and converting them into a digital form that can be manipulated by a computer and software."
   ]
  },
  {
   "cell_type": "markdown",
   "id": "63553916",
   "metadata": {},
   "source": [
    "## Libraties"
   ]
  },
  {
   "cell_type": "code",
   "execution_count": 32,
   "id": "1cd39aee",
   "metadata": {},
   "outputs": [],
   "source": [
    "import pandas as pd\n",
    "import matplotlib.pyplot as plt"
   ]
  },
  {
   "cell_type": "markdown",
   "id": "8dc5fa91",
   "metadata": {},
   "source": [
    "## Getting Data - Reading data from various sources"
   ]
  },
  {
   "cell_type": "markdown",
   "id": "8040ce38",
   "metadata": {},
   "source": [
    "* pd.Series() е една колона от данни (за pandas е важно тя да бъде от един и същи тип)\n",
    "* shift + tab ни показва документацията\n",
    "\n"
   ]
  },
  {
   "cell_type": "code",
   "execution_count": 2,
   "id": "5eadb4cd",
   "metadata": {},
   "outputs": [
    {
     "data": {
      "text/plain": [
       "list"
      ]
     },
     "execution_count": 2,
     "metadata": {},
     "output_type": "execute_result"
    }
   ],
   "source": [
    "type([1, 2, 3, 4.5, True, \"Nati\"]) #за python не е важен типа"
   ]
  },
  {
   "cell_type": "code",
   "execution_count": 3,
   "id": "8dfe1ab7",
   "metadata": {
    "scrolled": true
   },
   "outputs": [
    {
     "name": "stderr",
     "output_type": "stream",
     "text": [
      "C:\\Users\\stoic\\AppData\\Local\\Temp\\ipykernel_6196\\1862613496.py:1: FutureWarning: The default dtype for empty Series will be 'object' instead of 'float64' in a future version. Specify a dtype explicitly to silence this warning.\n",
      "  pd.Series()\n"
     ]
    }
   ],
   "source": [
    "pd.Series() \n",
    "#pd.Series([1, 2, 3, 4.5, True, \"Nati\"]) # това е от type object, което не ни върши работа\n",
    "series = pd.Series([1, 2, 3])"
   ]
  },
  {
   "cell_type": "code",
   "execution_count": 4,
   "id": "bbed7b2d",
   "metadata": {},
   "outputs": [
    {
     "data": {
      "text/plain": [
       "pandas.core.series.Series"
      ]
     },
     "execution_count": 4,
     "metadata": {},
     "output_type": "execute_result"
    }
   ],
   "source": [
    "type(series)"
   ]
  },
  {
   "cell_type": "markdown",
   "id": "4ca54e11",
   "metadata": {},
   "source": [
    "* една таблица винаги е двомерна n(редове) x m(колони), обикновено се използва термина DataSet. В pandas използваме <strong>DataFrame</strong>"
   ]
  },
  {
   "cell_type": "code",
   "execution_count": 5,
   "id": "0e5e906b",
   "metadata": {},
   "outputs": [
    {
     "data": {
      "text/html": [
       "<div>\n",
       "<style scoped>\n",
       "    .dataframe tbody tr th:only-of-type {\n",
       "        vertical-align: middle;\n",
       "    }\n",
       "\n",
       "    .dataframe tbody tr th {\n",
       "        vertical-align: top;\n",
       "    }\n",
       "\n",
       "    .dataframe thead th {\n",
       "        text-align: right;\n",
       "    }\n",
       "</style>\n",
       "<table border=\"1\" class=\"dataframe\">\n",
       "  <thead>\n",
       "    <tr style=\"text-align: right;\">\n",
       "      <th></th>\n",
       "    </tr>\n",
       "  </thead>\n",
       "  <tbody>\n",
       "  </tbody>\n",
       "</table>\n",
       "</div>"
      ],
      "text/plain": [
       "Empty DataFrame\n",
       "Columns: []\n",
       "Index: []"
      ]
     },
     "execution_count": 5,
     "metadata": {},
     "output_type": "execute_result"
    }
   ],
   "source": [
    "pd.DataFrame() # празна таблица"
   ]
  },
  {
   "cell_type": "code",
   "execution_count": 6,
   "id": "d99f3454",
   "metadata": {
    "scrolled": true
   },
   "outputs": [],
   "source": [
    "#подаване на данните по колони\n",
    "frame =pd.DataFrame({\n",
    "    \"col1\" : [1, 2, 3],\n",
    "    \"col2\" : [4, 10, 18]\n",
    "}) "
   ]
  },
  {
   "cell_type": "code",
   "execution_count": 7,
   "id": "cf75fcf6",
   "metadata": {},
   "outputs": [
    {
     "data": {
      "text/plain": [
       "pandas.core.frame.DataFrame"
      ]
     },
     "execution_count": 7,
     "metadata": {},
     "output_type": "execute_result"
    }
   ],
   "source": [
    "type(frame)"
   ]
  },
  {
   "cell_type": "code",
   "execution_count": 8,
   "id": "61a49cee",
   "metadata": {},
   "outputs": [
    {
     "data": {
      "text/plain": [
       "0    1\n",
       "1    2\n",
       "2    3\n",
       "Name: col1, dtype: int64"
      ]
     },
     "execution_count": 8,
     "metadata": {},
     "output_type": "execute_result"
    }
   ],
   "source": [
    "frame[\"col1\"] #колона"
   ]
  },
  {
   "cell_type": "code",
   "execution_count": 9,
   "id": "5a861b81",
   "metadata": {},
   "outputs": [
    {
     "data": {
      "text/html": [
       "<div>\n",
       "<style scoped>\n",
       "    .dataframe tbody tr th:only-of-type {\n",
       "        vertical-align: middle;\n",
       "    }\n",
       "\n",
       "    .dataframe tbody tr th {\n",
       "        vertical-align: top;\n",
       "    }\n",
       "\n",
       "    .dataframe thead th {\n",
       "        text-align: right;\n",
       "    }\n",
       "</style>\n",
       "<table border=\"1\" class=\"dataframe\">\n",
       "  <thead>\n",
       "    <tr style=\"text-align: right;\">\n",
       "      <th></th>\n",
       "      <th>col1</th>\n",
       "    </tr>\n",
       "  </thead>\n",
       "  <tbody>\n",
       "    <tr>\n",
       "      <th>0</th>\n",
       "      <td>1</td>\n",
       "    </tr>\n",
       "    <tr>\n",
       "      <th>1</th>\n",
       "      <td>2</td>\n",
       "    </tr>\n",
       "    <tr>\n",
       "      <th>2</th>\n",
       "      <td>3</td>\n",
       "    </tr>\n",
       "  </tbody>\n",
       "</table>\n",
       "</div>"
      ],
      "text/plain": [
       "   col1\n",
       "0     1\n",
       "1     2\n",
       "2     3"
      ]
     },
     "execution_count": 9,
     "metadata": {},
     "output_type": "execute_result"
    }
   ],
   "source": [
    "frame[[\"col1\"]] #таблица от една колона;\n",
    "#външните скоби са за индексиране, вътрешните за списък"
   ]
  },
  {
   "cell_type": "markdown",
   "id": "5eea0dbf",
   "metadata": {},
   "source": [
    "Има данни, които са таблични и такива които не са таблични\n",
    "- за да можем да работим с данните трябва да ги превърнем в таблични\n",
    "Неструктурирани данни - данни, които нямат модел(снимки, уеб станици, текст)\n",
    "Най-чести източници на данни:\n",
    "- таблици в текстов формат например .csv\n",
    "- Excel, Google Sheets ...\n",
    "- Web services\n",
    "- Бази от данни"
   ]
  },
  {
   "cell_type": "markdown",
   "id": "9096832e",
   "metadata": {},
   "source": [
    "# Reading data from file"
   ]
  },
  {
   "cell_type": "code",
   "execution_count": 10,
   "id": "d0764715",
   "metadata": {},
   "outputs": [],
   "source": [
    "accidents = pd.read_csv(\"data/accidents.csv\") #относителен път - спрямо мястото, където се намира текущата тетрадка\n",
    "# ако използваме \\ за пътя трябва да го ескейпнем т.е. използваме \"data\\\\accidents.csv\""
   ]
  },
  {
   "cell_type": "code",
   "execution_count": 11,
   "id": "2eb3ec24",
   "metadata": {},
   "outputs": [
    {
     "data": {
      "text/html": [
       "<div>\n",
       "<style scoped>\n",
       "    .dataframe tbody tr th:only-of-type {\n",
       "        vertical-align: middle;\n",
       "    }\n",
       "\n",
       "    .dataframe tbody tr th {\n",
       "        vertical-align: top;\n",
       "    }\n",
       "\n",
       "    .dataframe thead th {\n",
       "        text-align: right;\n",
       "    }\n",
       "</style>\n",
       "<table border=\"1\" class=\"dataframe\">\n",
       "  <thead>\n",
       "    <tr style=\"text-align: right;\">\n",
       "      <th></th>\n",
       "      <th>Miles from Home</th>\n",
       "      <th>% of Accidents</th>\n",
       "    </tr>\n",
       "  </thead>\n",
       "  <tbody>\n",
       "    <tr>\n",
       "      <th>0</th>\n",
       "      <td>less than 1</td>\n",
       "      <td>23</td>\n",
       "    </tr>\n",
       "    <tr>\n",
       "      <th>1</th>\n",
       "      <td>1 to 5</td>\n",
       "      <td>29</td>\n",
       "    </tr>\n",
       "    <tr>\n",
       "      <th>2</th>\n",
       "      <td>6 to 10</td>\n",
       "      <td>17</td>\n",
       "    </tr>\n",
       "    <tr>\n",
       "      <th>3</th>\n",
       "      <td>11 to 15</td>\n",
       "      <td>8</td>\n",
       "    </tr>\n",
       "    <tr>\n",
       "      <th>4</th>\n",
       "      <td>16 to 20</td>\n",
       "      <td>6</td>\n",
       "    </tr>\n",
       "    <tr>\n",
       "      <th>5</th>\n",
       "      <td>over 20</td>\n",
       "      <td>17</td>\n",
       "    </tr>\n",
       "  </tbody>\n",
       "</table>\n",
       "</div>"
      ],
      "text/plain": [
       "  Miles from Home  % of Accidents\n",
       "0     less than 1              23\n",
       "1          1 to 5              29\n",
       "2         6 to 10              17\n",
       "3        11 to 15               8\n",
       "4        16 to 20               6\n",
       "5         over 20              17"
      ]
     },
     "execution_count": 11,
     "metadata": {},
     "output_type": "execute_result"
    }
   ],
   "source": [
    "accidents"
   ]
  },
  {
   "cell_type": "code",
   "execution_count": 12,
   "id": "eea9be3b",
   "metadata": {},
   "outputs": [
    {
     "data": {
      "text/html": [
       "<div>\n",
       "<style scoped>\n",
       "    .dataframe tbody tr th:only-of-type {\n",
       "        vertical-align: middle;\n",
       "    }\n",
       "\n",
       "    .dataframe tbody tr th {\n",
       "        vertical-align: top;\n",
       "    }\n",
       "\n",
       "    .dataframe thead th {\n",
       "        text-align: right;\n",
       "    }\n",
       "</style>\n",
       "<table border=\"1\" class=\"dataframe\">\n",
       "  <thead>\n",
       "    <tr style=\"text-align: right;\">\n",
       "      <th></th>\n",
       "      <th>Miles from Home</th>\n",
       "      <th>% of Accidents</th>\n",
       "    </tr>\n",
       "  </thead>\n",
       "  <tbody>\n",
       "    <tr>\n",
       "      <th>0</th>\n",
       "      <td>less than 1</td>\n",
       "      <td>23</td>\n",
       "    </tr>\n",
       "    <tr>\n",
       "      <th>1</th>\n",
       "      <td>1 to 5</td>\n",
       "      <td>29</td>\n",
       "    </tr>\n",
       "    <tr>\n",
       "      <th>2</th>\n",
       "      <td>6 to 10</td>\n",
       "      <td>17</td>\n",
       "    </tr>\n",
       "    <tr>\n",
       "      <th>3</th>\n",
       "      <td>11 to 15</td>\n",
       "      <td>8</td>\n",
       "    </tr>\n",
       "    <tr>\n",
       "      <th>4</th>\n",
       "      <td>16 to 20</td>\n",
       "      <td>6</td>\n",
       "    </tr>\n",
       "  </tbody>\n",
       "</table>\n",
       "</div>"
      ],
      "text/plain": [
       "  Miles from Home  % of Accidents\n",
       "0     less than 1              23\n",
       "1          1 to 5              29\n",
       "2         6 to 10              17\n",
       "3        11 to 15               8\n",
       "4        16 to 20               6"
      ]
     },
     "execution_count": 12,
     "metadata": {},
     "output_type": "execute_result"
    }
   ],
   "source": [
    "accidents.head() #първите 5 записа"
   ]
  },
  {
   "cell_type": "code",
   "execution_count": 13,
   "id": "c1790bfa",
   "metadata": {},
   "outputs": [
    {
     "data": {
      "text/html": [
       "<div>\n",
       "<style scoped>\n",
       "    .dataframe tbody tr th:only-of-type {\n",
       "        vertical-align: middle;\n",
       "    }\n",
       "\n",
       "    .dataframe tbody tr th {\n",
       "        vertical-align: top;\n",
       "    }\n",
       "\n",
       "    .dataframe thead th {\n",
       "        text-align: right;\n",
       "    }\n",
       "</style>\n",
       "<table border=\"1\" class=\"dataframe\">\n",
       "  <thead>\n",
       "    <tr style=\"text-align: right;\">\n",
       "      <th></th>\n",
       "      <th>Miles from Home</th>\n",
       "      <th>% of Accidents</th>\n",
       "    </tr>\n",
       "  </thead>\n",
       "  <tbody>\n",
       "    <tr>\n",
       "      <th>0</th>\n",
       "      <td>less than 1</td>\n",
       "      <td>23</td>\n",
       "    </tr>\n",
       "    <tr>\n",
       "      <th>1</th>\n",
       "      <td>1 to 5</td>\n",
       "      <td>29</td>\n",
       "    </tr>\n",
       "    <tr>\n",
       "      <th>2</th>\n",
       "      <td>6 to 10</td>\n",
       "      <td>17</td>\n",
       "    </tr>\n",
       "    <tr>\n",
       "      <th>3</th>\n",
       "      <td>11 to 15</td>\n",
       "      <td>8</td>\n",
       "    </tr>\n",
       "    <tr>\n",
       "      <th>4</th>\n",
       "      <td>16 to 20</td>\n",
       "      <td>6</td>\n",
       "    </tr>\n",
       "    <tr>\n",
       "      <th>5</th>\n",
       "      <td>over 20</td>\n",
       "      <td>17</td>\n",
       "    </tr>\n",
       "  </tbody>\n",
       "</table>\n",
       "</div>"
      ],
      "text/plain": [
       "  Miles from Home  % of Accidents\n",
       "0     less than 1              23\n",
       "1          1 to 5              29\n",
       "2         6 to 10              17\n",
       "3        11 to 15               8\n",
       "4        16 to 20               6\n",
       "5         over 20              17"
      ]
     },
     "execution_count": 13,
     "metadata": {},
     "output_type": "execute_result"
    }
   ],
   "source": [
    "accidents.head(7) #първите 7 записа"
   ]
  },
  {
   "cell_type": "code",
   "execution_count": 14,
   "id": "b46a746b",
   "metadata": {},
   "outputs": [
    {
     "data": {
      "text/html": [
       "<div>\n",
       "<style scoped>\n",
       "    .dataframe tbody tr th:only-of-type {\n",
       "        vertical-align: middle;\n",
       "    }\n",
       "\n",
       "    .dataframe tbody tr th {\n",
       "        vertical-align: top;\n",
       "    }\n",
       "\n",
       "    .dataframe thead th {\n",
       "        text-align: right;\n",
       "    }\n",
       "</style>\n",
       "<table border=\"1\" class=\"dataframe\">\n",
       "  <thead>\n",
       "    <tr style=\"text-align: right;\">\n",
       "      <th></th>\n",
       "      <th>Miles from Home</th>\n",
       "      <th>% of Accidents</th>\n",
       "    </tr>\n",
       "  </thead>\n",
       "  <tbody>\n",
       "    <tr>\n",
       "      <th>1</th>\n",
       "      <td>1 to 5</td>\n",
       "      <td>29</td>\n",
       "    </tr>\n",
       "    <tr>\n",
       "      <th>2</th>\n",
       "      <td>6 to 10</td>\n",
       "      <td>17</td>\n",
       "    </tr>\n",
       "    <tr>\n",
       "      <th>3</th>\n",
       "      <td>11 to 15</td>\n",
       "      <td>8</td>\n",
       "    </tr>\n",
       "    <tr>\n",
       "      <th>4</th>\n",
       "      <td>16 to 20</td>\n",
       "      <td>6</td>\n",
       "    </tr>\n",
       "    <tr>\n",
       "      <th>5</th>\n",
       "      <td>over 20</td>\n",
       "      <td>17</td>\n",
       "    </tr>\n",
       "  </tbody>\n",
       "</table>\n",
       "</div>"
      ],
      "text/plain": [
       "  Miles from Home  % of Accidents\n",
       "1          1 to 5              29\n",
       "2         6 to 10              17\n",
       "3        11 to 15               8\n",
       "4        16 to 20               6\n",
       "5         over 20              17"
      ]
     },
     "execution_count": 14,
     "metadata": {},
     "output_type": "execute_result"
    }
   ],
   "source": [
    "accidents.tail() #последните 5 записа"
   ]
  },
  {
   "cell_type": "code",
   "execution_count": 15,
   "id": "b614414a",
   "metadata": {},
   "outputs": [
    {
     "data": {
      "text/plain": [
       "(6, 2)"
      ]
     },
     "execution_count": 15,
     "metadata": {},
     "output_type": "execute_result"
    }
   ],
   "source": [
    "accidents.shape #форматът на данните"
   ]
  },
  {
   "cell_type": "code",
   "execution_count": 16,
   "id": "a587a108",
   "metadata": {},
   "outputs": [
    {
     "data": {
      "text/plain": [
       "Index(['Miles from Home', '% of Accidents'], dtype='object')"
      ]
     },
     "execution_count": 16,
     "metadata": {},
     "output_type": "execute_result"
    }
   ],
   "source": [
    "accidents.columns #pandas работи с два индекса: индекс по колони и индекс по редове\n",
    "#затова колоните са индекс за pandas"
   ]
  },
  {
   "cell_type": "code",
   "execution_count": 17,
   "id": "c5a2c511",
   "metadata": {},
   "outputs": [
    {
     "data": {
      "text/plain": [
       "array(['Miles from Home', '% of Accidents'], dtype=object)"
      ]
     },
     "execution_count": 17,
     "metadata": {},
     "output_type": "execute_result"
    }
   ],
   "source": [
    "accidents.columns.values #за получаване на масив от имената на колоните"
   ]
  },
  {
   "cell_type": "code",
   "execution_count": 18,
   "id": "ce9f6d03",
   "metadata": {},
   "outputs": [
    {
     "data": {
      "text/plain": [
       "RangeIndex(start=0, stop=6, step=1)"
      ]
     },
     "execution_count": 18,
     "metadata": {},
     "output_type": "execute_result"
    }
   ],
   "source": [
    "accidents.index #дава стойностите на индексът по редове"
   ]
  },
  {
   "cell_type": "code",
   "execution_count": 19,
   "id": "2a612086",
   "metadata": {},
   "outputs": [
    {
     "data": {
      "text/plain": [
       "Miles from Home    object\n",
       "% of Accidents      int64\n",
       "dtype: object"
      ]
     },
     "execution_count": 19,
     "metadata": {},
     "output_type": "execute_result"
    }
   ],
   "source": [
    "accidents.dtypes #типът на всяка една колона ; там където имаме string получаваме object, също и когато има различни типове в една колона"
   ]
  },
  {
   "cell_type": "code",
   "execution_count": 22,
   "id": "22ab342c",
   "metadata": {},
   "outputs": [],
   "source": [
    "grean_trip = pd.read_excel(\"data/green_tripdata_2015-09.xls\")"
   ]
  },
  {
   "cell_type": "code",
   "execution_count": 23,
   "id": "a6d7e96e",
   "metadata": {},
   "outputs": [
    {
     "data": {
      "text/plain": [
       "(65535, 21)"
      ]
     },
     "execution_count": 23,
     "metadata": {},
     "output_type": "execute_result"
    }
   ],
   "source": [
    "grean_trip.shape"
   ]
  },
  {
   "cell_type": "code",
   "execution_count": 24,
   "id": "3ee024b9",
   "metadata": {},
   "outputs": [
    {
     "data": {
      "text/plain": [
       "Index(['VendorID', 'lpep_pickup_datetime', 'Lpep_dropoff_datetime',\n",
       "       'Store_and_fwd_flag', 'RateCodeID', 'Pickup_longitude',\n",
       "       'Pickup_latitude', 'Dropoff_longitude', 'Dropoff_latitude',\n",
       "       'Passenger_count', 'Trip_distance', 'Fare_amount', 'Extra', 'MTA_tax',\n",
       "       'Tip_amount', 'Tolls_amount', 'Ehail_fee', 'improvement_surcharge',\n",
       "       'Total_amount', 'Payment_type', 'Trip_type '],\n",
       "      dtype='object')"
      ]
     },
     "execution_count": 24,
     "metadata": {},
     "output_type": "execute_result"
    }
   ],
   "source": [
    "grean_trip.columns"
   ]
  },
  {
   "cell_type": "code",
   "execution_count": 26,
   "id": "9524d37c",
   "metadata": {},
   "outputs": [
    {
     "data": {
      "text/plain": [
       "VendorID                          int64\n",
       "lpep_pickup_datetime     datetime64[ns]\n",
       "Lpep_dropoff_datetime    datetime64[ns]\n",
       "Store_and_fwd_flag               object\n",
       "RateCodeID                        int64\n",
       "Pickup_longitude                float64\n",
       "Pickup_latitude                 float64\n",
       "Dropoff_longitude               float64\n",
       "Dropoff_latitude                float64\n",
       "Passenger_count                   int64\n",
       "Trip_distance                   float64\n",
       "Fare_amount                     float64\n",
       "Extra                           float64\n",
       "MTA_tax                         float64\n",
       "Tip_amount                      float64\n",
       "Tolls_amount                    float64\n",
       "Ehail_fee                       float64\n",
       "improvement_surcharge           float64\n",
       "Total_amount                    float64\n",
       "Payment_type                      int64\n",
       "Trip_type                         int64\n",
       "dtype: object"
      ]
     },
     "execution_count": 26,
     "metadata": {},
     "output_type": "execute_result"
    }
   ],
   "source": [
    "grean_trip.dtypes"
   ]
  },
  {
   "cell_type": "code",
   "execution_count": 27,
   "id": "20c3e36f",
   "metadata": {},
   "outputs": [
    {
     "data": {
      "text/plain": [
       "dtype('int64')"
      ]
     },
     "execution_count": 27,
     "metadata": {},
     "output_type": "execute_result"
    }
   ],
   "source": [
    "grean_trip[\"Payment_type\"].dtype"
   ]
  },
  {
   "cell_type": "code",
   "execution_count": 28,
   "id": "4b94e4ec",
   "metadata": {},
   "outputs": [
    {
     "data": {
      "text/plain": [
       "0        1\n",
       "1        1\n",
       "2        1\n",
       "3        2\n",
       "4        2\n",
       "        ..\n",
       "65530    2\n",
       "65531    1\n",
       "65532    1\n",
       "65533    1\n",
       "65534    2\n",
       "Name: Payment_type, Length: 65535, dtype: int64"
      ]
     },
     "execution_count": 28,
     "metadata": {},
     "output_type": "execute_result"
    }
   ],
   "source": [
    "grean_trip[\"Payment_type\"]"
   ]
  },
  {
   "cell_type": "code",
   "execution_count": 29,
   "id": "48a77965",
   "metadata": {},
   "outputs": [
    {
     "data": {
      "text/plain": [
       "2    36131\n",
       "1    28912\n",
       "3      281\n",
       "4      207\n",
       "5        4\n",
       "Name: Payment_type, dtype: int64"
      ]
     },
     "execution_count": 29,
     "metadata": {},
     "output_type": "execute_result"
    }
   ],
   "source": [
    "grean_trip[\"Payment_type\"].value_counts()"
   ]
  },
  {
   "cell_type": "code",
   "execution_count": 35,
   "id": "c72afbb4",
   "metadata": {},
   "outputs": [
    {
     "data": {
      "image/png": "[encoded data removed]",
      "text/plain": [
       "<Figure size 432x288 with 1 Axes>"
      ]
     },
     "metadata": {
      "needs_background": "light"
     },
     "output_type": "display_data"
    }
   ],
   "source": [
    "plt.hist(grean_trip[\"Total_amount\"], bins = 50)\n",
    "plt.semilogx() #логаритмична скала по х\n",
    "plt.show()"
   ]
  },
  {
   "cell_type": "markdown",
   "id": "74fd2e21",
   "metadata": {},
   "source": [
    "# Reading data from Web Services\n",
    "Най-често използвани са json и xml"
   ]
  },
  {
   "cell_type": "code",
   "execution_count": 37,
   "id": "a1e5ae9e",
   "metadata": {},
   "outputs": [
    {
     "data": {
      "text/html": [
       "<div>\n",
       "<style scoped>\n",
       "    .dataframe tbody tr th:only-of-type {\n",
       "        vertical-align: middle;\n",
       "    }\n",
       "\n",
       "    .dataframe tbody tr th {\n",
       "        vertical-align: top;\n",
       "    }\n",
       "\n",
       "    .dataframe thead th {\n",
       "        text-align: right;\n",
       "    }\n",
       "</style>\n",
       "<table border=\"1\" class=\"dataframe\">\n",
       "  <thead>\n",
       "    <tr style=\"text-align: right;\">\n",
       "      <th></th>\n",
       "      <th>bib_key</th>\n",
       "      <th>info_url</th>\n",
       "      <th>preview</th>\n",
       "      <th>preview_url</th>\n",
       "      <th>thumbnail_url</th>\n",
       "    </tr>\n",
       "  </thead>\n",
       "  <tbody>\n",
       "    <tr>\n",
       "      <th>ISBN:9780345354907</th>\n",
       "      <td>ISBN:9780345354907</td>\n",
       "      <td>https://openlibrary.org/books/OL9831606M/The_C...</td>\n",
       "      <td>borrow</td>\n",
       "      <td>https://archive.org/details/caseofcharlesdex00...</td>\n",
       "      <td>https://covers.openlibrary.org/b/id/207586-S.jpg</td>\n",
       "    </tr>\n",
       "    <tr>\n",
       "      <th>ISBN:0881847690</th>\n",
       "      <td>ISBN:0881847690</td>\n",
       "      <td>https://openlibrary.org/books/OL22232644M/Watc...</td>\n",
       "      <td>borrow</td>\n",
       "      <td>https://archive.org/details/watchersoutoftim00...</td>\n",
       "      <td>https://covers.openlibrary.org/b/id/9871313-S.jpg</td>\n",
       "    </tr>\n",
       "    <tr>\n",
       "      <th>LCCN:2005041555</th>\n",
       "      <td>LCCN:2005041555</td>\n",
       "      <td>https://openlibrary.org/books/OL3421202M/At_th...</td>\n",
       "      <td>borrow</td>\n",
       "      <td>https://archive.org/details/atmountainsofmad00...</td>\n",
       "      <td>https://covers.openlibrary.org/b/id/8259841-S.jpg</td>\n",
       "    </tr>\n",
       "    <tr>\n",
       "      <th>ISBN:0060957905</th>\n",
       "      <td>ISBN:0060957905</td>\n",
       "      <td>https://openlibrary.org/books/OL6784868M/Tales...</td>\n",
       "      <td>noview</td>\n",
       "      <td>https://openlibrary.org/books/OL6784868M/Tales...</td>\n",
       "      <td>https://covers.openlibrary.org/b/id/676505-S.jpg</td>\n",
       "    </tr>\n",
       "  </tbody>\n",
       "</table>\n",
       "</div>"
      ],
      "text/plain": [
       "                               bib_key  \\\n",
       "ISBN:9780345354907  ISBN:9780345354907   \n",
       "ISBN:0881847690        ISBN:0881847690   \n",
       "LCCN:2005041555        LCCN:2005041555   \n",
       "ISBN:0060957905        ISBN:0060957905   \n",
       "\n",
       "                                                             info_url preview  \\\n",
       "ISBN:9780345354907  https://openlibrary.org/books/OL9831606M/The_C...  borrow   \n",
       "ISBN:0881847690     https://openlibrary.org/books/OL22232644M/Watc...  borrow   \n",
       "LCCN:2005041555     https://openlibrary.org/books/OL3421202M/At_th...  borrow   \n",
       "ISBN:0060957905     https://openlibrary.org/books/OL6784868M/Tales...  noview   \n",
       "\n",
       "                                                          preview_url  \\\n",
       "ISBN:9780345354907  https://archive.org/details/caseofcharlesdex00...   \n",
       "ISBN:0881847690     https://archive.org/details/watchersoutoftim00...   \n",
       "LCCN:2005041555     https://archive.org/details/atmountainsofmad00...   \n",
       "ISBN:0060957905     https://openlibrary.org/books/OL6784868M/Tales...   \n",
       "\n",
       "                                                        thumbnail_url  \n",
       "ISBN:9780345354907   https://covers.openlibrary.org/b/id/207586-S.jpg  \n",
       "ISBN:0881847690     https://covers.openlibrary.org/b/id/9871313-S.jpg  \n",
       "LCCN:2005041555     https://covers.openlibrary.org/b/id/8259841-S.jpg  \n",
       "ISBN:0060957905      https://covers.openlibrary.org/b/id/676505-S.jpg  "
      ]
     },
     "execution_count": 37,
     "metadata": {},
     "output_type": "execute_result"
    }
   ],
   "source": [
    "pd.read_json(\"https://openlibrary.org/api/books?bibkeys=ISBN:9780345354907,ISBN:0881847690,LCCN:2005041555,ISBN:0060957905&format=json\", orient= \"index\") #можем да променяме начина, по който pandas да чете данните с orient; \n",
    "# четем какви ориентации имаме от документацията shift + tab "
   ]
  },
  {
   "cell_type": "markdown",
   "id": "52285bf4",
   "metadata": {},
   "source": [
    "# Reading from SQL\n",
    "За четене от база данни трябва да инсталираме следната библиотека:"
   ]
  },
  {
   "cell_type": "code",
   "execution_count": 39,
   "id": "0b7bad76",
   "metadata": {},
   "outputs": [
    {
     "name": "stdout",
     "output_type": "stream",
     "text": [
      "Collecting pyodbc\n",
      "  Downloading pyodbc-4.0.34-cp310-cp310-win_amd64.whl (74 kB)\n",
      "     ---------------------------------------- 74.9/74.9 kB ? eta 0:00:00\n",
      "Installing collected packages: pyodbc\n",
      "Successfully installed pyodbc-4.0.34\n",
      "\n",
      "[notice] A new release of pip available: 22.2 -> 22.2.1\n",
      "[notice] To update, run: python.exe -m pip install --upgrade pip\n",
      "Note: you may need to restart the kernel to use updated packages.\n"
     ]
    }
   ],
   "source": [
    "pip install pyodbc"
   ]
  },
  {
   "cell_type": "markdown",
   "id": "5d1cc417",
   "metadata": {},
   "source": [
    "# Web scraping\n",
    "\n",
    "Взимане на данни от уеб страница\n",
    "\n",
    "web crawling - последване на всички линкове от една страница и линковете на страниците до които те водят на определена дълбочина  "
   ]
  },
  {
   "cell_type": "markdown",
   "id": "823e8b45",
   "metadata": {},
   "source": [
    "# Using multiple data sources\n",
    "\n",
    "## Merging data sources"
   ]
  },
  {
   "cell_type": "code",
   "execution_count": 51,
   "id": "a4f47408",
   "metadata": {},
   "outputs": [
    {
     "name": "stderr",
     "output_type": "stream",
     "text": [
      "C:\\Users\\stoic\\AppData\\Local\\Temp\\ipykernel_6196\\3586194078.py:1: DtypeWarning: Columns (0) have mixed types. Specify dtype option on import or set low_memory=False.\n",
      "  tracks = pd.read_csv(\"data/fma_metadata/tracks.csv\", skiprows = 1) # skiprows защото първият ред не ни трябва\n"
     ]
    },
    {
     "data": {
      "text/html": [
       "<div>\n",
       "<style scoped>\n",
       "    .dataframe tbody tr th:only-of-type {\n",
       "        vertical-align: middle;\n",
       "    }\n",
       "\n",
       "    .dataframe tbody tr th {\n",
       "        vertical-align: top;\n",
       "    }\n",
       "\n",
       "    .dataframe thead th {\n",
       "        text-align: right;\n",
       "    }\n",
       "</style>\n",
       "<table border=\"1\" class=\"dataframe\">\n",
       "  <thead>\n",
       "    <tr style=\"text-align: right;\">\n",
       "      <th></th>\n",
       "      <th>Unnamed: 0</th>\n",
       "      <th>comments</th>\n",
       "      <th>date_created</th>\n",
       "      <th>date_released</th>\n",
       "      <th>engineer</th>\n",
       "      <th>favorites</th>\n",
       "      <th>id</th>\n",
       "      <th>information</th>\n",
       "      <th>listens</th>\n",
       "      <th>producer</th>\n",
       "      <th>...</th>\n",
       "      <th>information.1</th>\n",
       "      <th>interest</th>\n",
       "      <th>language_code</th>\n",
       "      <th>license</th>\n",
       "      <th>listens.1</th>\n",
       "      <th>lyricist</th>\n",
       "      <th>number</th>\n",
       "      <th>publisher</th>\n",
       "      <th>tags.2</th>\n",
       "      <th>title.1</th>\n",
       "    </tr>\n",
       "  </thead>\n",
       "  <tbody>\n",
       "    <tr>\n",
       "      <th>0</th>\n",
       "      <td>track_id</td>\n",
       "      <td>NaN</td>\n",
       "      <td>NaN</td>\n",
       "      <td>NaN</td>\n",
       "      <td>NaN</td>\n",
       "      <td>NaN</td>\n",
       "      <td>NaN</td>\n",
       "      <td>NaN</td>\n",
       "      <td>NaN</td>\n",
       "      <td>NaN</td>\n",
       "      <td>...</td>\n",
       "      <td>NaN</td>\n",
       "      <td>NaN</td>\n",
       "      <td>NaN</td>\n",
       "      <td>NaN</td>\n",
       "      <td>NaN</td>\n",
       "      <td>NaN</td>\n",
       "      <td>NaN</td>\n",
       "      <td>NaN</td>\n",
       "      <td>NaN</td>\n",
       "      <td>NaN</td>\n",
       "    </tr>\n",
       "    <tr>\n",
       "      <th>1</th>\n",
       "      <td>2</td>\n",
       "      <td>0.0</td>\n",
       "      <td>2008-11-26 01:44:45</td>\n",
       "      <td>2009-01-05 00:00:00</td>\n",
       "      <td>NaN</td>\n",
       "      <td>4.0</td>\n",
       "      <td>1.0</td>\n",
       "      <td>&lt;p&gt;&lt;/p&gt;</td>\n",
       "      <td>6073.0</td>\n",
       "      <td>NaN</td>\n",
       "      <td>...</td>\n",
       "      <td>NaN</td>\n",
       "      <td>4656.0</td>\n",
       "      <td>en</td>\n",
       "      <td>Attribution-NonCommercial-ShareAlike 3.0 Inter...</td>\n",
       "      <td>1293.0</td>\n",
       "      <td>NaN</td>\n",
       "      <td>3.0</td>\n",
       "      <td>NaN</td>\n",
       "      <td>[]</td>\n",
       "      <td>Food</td>\n",
       "    </tr>\n",
       "    <tr>\n",
       "      <th>2</th>\n",
       "      <td>3</td>\n",
       "      <td>0.0</td>\n",
       "      <td>2008-11-26 01:44:45</td>\n",
       "      <td>2009-01-05 00:00:00</td>\n",
       "      <td>NaN</td>\n",
       "      <td>4.0</td>\n",
       "      <td>1.0</td>\n",
       "      <td>&lt;p&gt;&lt;/p&gt;</td>\n",
       "      <td>6073.0</td>\n",
       "      <td>NaN</td>\n",
       "      <td>...</td>\n",
       "      <td>NaN</td>\n",
       "      <td>1470.0</td>\n",
       "      <td>en</td>\n",
       "      <td>Attribution-NonCommercial-ShareAlike 3.0 Inter...</td>\n",
       "      <td>514.0</td>\n",
       "      <td>NaN</td>\n",
       "      <td>4.0</td>\n",
       "      <td>NaN</td>\n",
       "      <td>[]</td>\n",
       "      <td>Electric Ave</td>\n",
       "    </tr>\n",
       "    <tr>\n",
       "      <th>3</th>\n",
       "      <td>5</td>\n",
       "      <td>0.0</td>\n",
       "      <td>2008-11-26 01:44:45</td>\n",
       "      <td>2009-01-05 00:00:00</td>\n",
       "      <td>NaN</td>\n",
       "      <td>4.0</td>\n",
       "      <td>1.0</td>\n",
       "      <td>&lt;p&gt;&lt;/p&gt;</td>\n",
       "      <td>6073.0</td>\n",
       "      <td>NaN</td>\n",
       "      <td>...</td>\n",
       "      <td>NaN</td>\n",
       "      <td>1933.0</td>\n",
       "      <td>en</td>\n",
       "      <td>Attribution-NonCommercial-ShareAlike 3.0 Inter...</td>\n",
       "      <td>1151.0</td>\n",
       "      <td>NaN</td>\n",
       "      <td>6.0</td>\n",
       "      <td>NaN</td>\n",
       "      <td>[]</td>\n",
       "      <td>This World</td>\n",
       "    </tr>\n",
       "    <tr>\n",
       "      <th>4</th>\n",
       "      <td>10</td>\n",
       "      <td>0.0</td>\n",
       "      <td>2008-11-26 01:45:08</td>\n",
       "      <td>2008-02-06 00:00:00</td>\n",
       "      <td>NaN</td>\n",
       "      <td>4.0</td>\n",
       "      <td>6.0</td>\n",
       "      <td>NaN</td>\n",
       "      <td>47632.0</td>\n",
       "      <td>NaN</td>\n",
       "      <td>...</td>\n",
       "      <td>NaN</td>\n",
       "      <td>54881.0</td>\n",
       "      <td>en</td>\n",
       "      <td>Attribution-NonCommercial-NoDerivatives (aka M...</td>\n",
       "      <td>50135.0</td>\n",
       "      <td>NaN</td>\n",
       "      <td>1.0</td>\n",
       "      <td>NaN</td>\n",
       "      <td>[]</td>\n",
       "      <td>Freeway</td>\n",
       "    </tr>\n",
       "    <tr>\n",
       "      <th>...</th>\n",
       "      <td>...</td>\n",
       "      <td>...</td>\n",
       "      <td>...</td>\n",
       "      <td>...</td>\n",
       "      <td>...</td>\n",
       "      <td>...</td>\n",
       "      <td>...</td>\n",
       "      <td>...</td>\n",
       "      <td>...</td>\n",
       "      <td>...</td>\n",
       "      <td>...</td>\n",
       "      <td>...</td>\n",
       "      <td>...</td>\n",
       "      <td>...</td>\n",
       "      <td>...</td>\n",
       "      <td>...</td>\n",
       "      <td>...</td>\n",
       "      <td>...</td>\n",
       "      <td>...</td>\n",
       "      <td>...</td>\n",
       "      <td>...</td>\n",
       "    </tr>\n",
       "    <tr>\n",
       "      <th>106570</th>\n",
       "      <td>155316</td>\n",
       "      <td>0.0</td>\n",
       "      <td>2017-03-30 15:20:35</td>\n",
       "      <td>2017-02-17 00:00:00</td>\n",
       "      <td>NaN</td>\n",
       "      <td>0.0</td>\n",
       "      <td>22940.0</td>\n",
       "      <td>&lt;p&gt;A live performance at Monty Hall on Feb 17,...</td>\n",
       "      <td>1506.0</td>\n",
       "      <td>Monty Hall</td>\n",
       "      <td>...</td>\n",
       "      <td>NaN</td>\n",
       "      <td>122.0</td>\n",
       "      <td>NaN</td>\n",
       "      <td>Creative Commons Attribution-NonCommercial-NoD...</td>\n",
       "      <td>102.0</td>\n",
       "      <td>NaN</td>\n",
       "      <td>3.0</td>\n",
       "      <td>NaN</td>\n",
       "      <td>[]</td>\n",
       "      <td>The Auger</td>\n",
       "    </tr>\n",
       "    <tr>\n",
       "      <th>106571</th>\n",
       "      <td>155317</td>\n",
       "      <td>0.0</td>\n",
       "      <td>2017-03-30 15:20:35</td>\n",
       "      <td>2017-02-17 00:00:00</td>\n",
       "      <td>NaN</td>\n",
       "      <td>0.0</td>\n",
       "      <td>22940.0</td>\n",
       "      <td>&lt;p&gt;A live performance at Monty Hall on Feb 17,...</td>\n",
       "      <td>1506.0</td>\n",
       "      <td>Monty Hall</td>\n",
       "      <td>...</td>\n",
       "      <td>NaN</td>\n",
       "      <td>194.0</td>\n",
       "      <td>NaN</td>\n",
       "      <td>Creative Commons Attribution-NonCommercial-NoD...</td>\n",
       "      <td>165.0</td>\n",
       "      <td>NaN</td>\n",
       "      <td>4.0</td>\n",
       "      <td>NaN</td>\n",
       "      <td>[]</td>\n",
       "      <td>Let's Skin Ruby</td>\n",
       "    </tr>\n",
       "    <tr>\n",
       "      <th>106572</th>\n",
       "      <td>155318</td>\n",
       "      <td>0.0</td>\n",
       "      <td>2017-03-30 15:20:35</td>\n",
       "      <td>2017-02-17 00:00:00</td>\n",
       "      <td>NaN</td>\n",
       "      <td>0.0</td>\n",
       "      <td>22940.0</td>\n",
       "      <td>&lt;p&gt;A live performance at Monty Hall on Feb 17,...</td>\n",
       "      <td>1506.0</td>\n",
       "      <td>Monty Hall</td>\n",
       "      <td>...</td>\n",
       "      <td>NaN</td>\n",
       "      <td>214.0</td>\n",
       "      <td>NaN</td>\n",
       "      <td>Creative Commons Attribution-NonCommercial-NoD...</td>\n",
       "      <td>168.0</td>\n",
       "      <td>NaN</td>\n",
       "      <td>6.0</td>\n",
       "      <td>NaN</td>\n",
       "      <td>[]</td>\n",
       "      <td>My House Smells Like Kim Deal/Pulp</td>\n",
       "    </tr>\n",
       "    <tr>\n",
       "      <th>106573</th>\n",
       "      <td>155319</td>\n",
       "      <td>0.0</td>\n",
       "      <td>2017-03-30 15:20:35</td>\n",
       "      <td>2017-02-17 00:00:00</td>\n",
       "      <td>NaN</td>\n",
       "      <td>0.0</td>\n",
       "      <td>22940.0</td>\n",
       "      <td>&lt;p&gt;A live performance at Monty Hall on Feb 17,...</td>\n",
       "      <td>1506.0</td>\n",
       "      <td>Monty Hall</td>\n",
       "      <td>...</td>\n",
       "      <td>NaN</td>\n",
       "      <td>336.0</td>\n",
       "      <td>NaN</td>\n",
       "      <td>Creative Commons Attribution-NonCommercial-NoD...</td>\n",
       "      <td>294.0</td>\n",
       "      <td>NaN</td>\n",
       "      <td>5.0</td>\n",
       "      <td>NaN</td>\n",
       "      <td>[]</td>\n",
       "      <td>The Man With Two Mouths</td>\n",
       "    </tr>\n",
       "    <tr>\n",
       "      <th>106574</th>\n",
       "      <td>155320</td>\n",
       "      <td>0.0</td>\n",
       "      <td>2017-03-26 16:22:18</td>\n",
       "      <td>2017-03-26 00:00:00</td>\n",
       "      <td>NaN</td>\n",
       "      <td>1.0</td>\n",
       "      <td>22906.0</td>\n",
       "      <td>NaN</td>\n",
       "      <td>7481.0</td>\n",
       "      <td>NaN</td>\n",
       "      <td>...</td>\n",
       "      <td>NaN</td>\n",
       "      <td>972.0</td>\n",
       "      <td>NaN</td>\n",
       "      <td>Attribution-NonCommercial</td>\n",
       "      <td>705.0</td>\n",
       "      <td>NaN</td>\n",
       "      <td>7.0</td>\n",
       "      <td>NaN</td>\n",
       "      <td>['ballad', 'epic', 'rockabilly', 'curse', 'hex...</td>\n",
       "      <td>Another Trick Up My Sleeve (Instrumental)</td>\n",
       "    </tr>\n",
       "  </tbody>\n",
       "</table>\n",
       "<p>106575 rows × 53 columns</p>\n",
       "</div>"
      ],
      "text/plain": [
       "       Unnamed: 0  comments         date_created        date_released  \\\n",
       "0        track_id       NaN                  NaN                  NaN   \n",
       "1               2       0.0  2008-11-26 01:44:45  2009-01-05 00:00:00   \n",
       "2               3       0.0  2008-11-26 01:44:45  2009-01-05 00:00:00   \n",
       "3               5       0.0  2008-11-26 01:44:45  2009-01-05 00:00:00   \n",
       "4              10       0.0  2008-11-26 01:45:08  2008-02-06 00:00:00   \n",
       "...           ...       ...                  ...                  ...   \n",
       "106570     155316       0.0  2017-03-30 15:20:35  2017-02-17 00:00:00   \n",
       "106571     155317       0.0  2017-03-30 15:20:35  2017-02-17 00:00:00   \n",
       "106572     155318       0.0  2017-03-30 15:20:35  2017-02-17 00:00:00   \n",
       "106573     155319       0.0  2017-03-30 15:20:35  2017-02-17 00:00:00   \n",
       "106574     155320       0.0  2017-03-26 16:22:18  2017-03-26 00:00:00   \n",
       "\n",
       "       engineer  favorites       id  \\\n",
       "0           NaN        NaN      NaN   \n",
       "1           NaN        4.0      1.0   \n",
       "2           NaN        4.0      1.0   \n",
       "3           NaN        4.0      1.0   \n",
       "4           NaN        4.0      6.0   \n",
       "...         ...        ...      ...   \n",
       "106570      NaN        0.0  22940.0   \n",
       "106571      NaN        0.0  22940.0   \n",
       "106572      NaN        0.0  22940.0   \n",
       "106573      NaN        0.0  22940.0   \n",
       "106574      NaN        1.0  22906.0   \n",
       "\n",
       "                                              information  listens  \\\n",
       "0                                                     NaN      NaN   \n",
       "1                                                 <p></p>   6073.0   \n",
       "2                                                 <p></p>   6073.0   \n",
       "3                                                 <p></p>   6073.0   \n",
       "4                                                     NaN  47632.0   \n",
       "...                                                   ...      ...   \n",
       "106570  <p>A live performance at Monty Hall on Feb 17,...   1506.0   \n",
       "106571  <p>A live performance at Monty Hall on Feb 17,...   1506.0   \n",
       "106572  <p>A live performance at Monty Hall on Feb 17,...   1506.0   \n",
       "106573  <p>A live performance at Monty Hall on Feb 17,...   1506.0   \n",
       "106574                                                NaN   7481.0   \n",
       "\n",
       "           producer  ... information.1 interest  language_code  \\\n",
       "0               NaN  ...           NaN      NaN            NaN   \n",
       "1               NaN  ...           NaN   4656.0             en   \n",
       "2               NaN  ...           NaN   1470.0             en   \n",
       "3               NaN  ...           NaN   1933.0             en   \n",
       "4               NaN  ...           NaN  54881.0             en   \n",
       "...             ...  ...           ...      ...            ...   \n",
       "106570  Monty Hall   ...           NaN    122.0            NaN   \n",
       "106571  Monty Hall   ...           NaN    194.0            NaN   \n",
       "106572  Monty Hall   ...           NaN    214.0            NaN   \n",
       "106573  Monty Hall   ...           NaN    336.0            NaN   \n",
       "106574          NaN  ...           NaN    972.0            NaN   \n",
       "\n",
       "                                                  license listens.1 lyricist  \\\n",
       "0                                                     NaN       NaN      NaN   \n",
       "1       Attribution-NonCommercial-ShareAlike 3.0 Inter...    1293.0      NaN   \n",
       "2       Attribution-NonCommercial-ShareAlike 3.0 Inter...     514.0      NaN   \n",
       "3       Attribution-NonCommercial-ShareAlike 3.0 Inter...    1151.0      NaN   \n",
       "4       Attribution-NonCommercial-NoDerivatives (aka M...   50135.0      NaN   \n",
       "...                                                   ...       ...      ...   \n",
       "106570  Creative Commons Attribution-NonCommercial-NoD...     102.0      NaN   \n",
       "106571  Creative Commons Attribution-NonCommercial-NoD...     165.0      NaN   \n",
       "106572  Creative Commons Attribution-NonCommercial-NoD...     168.0      NaN   \n",
       "106573  Creative Commons Attribution-NonCommercial-NoD...     294.0      NaN   \n",
       "106574                          Attribution-NonCommercial     705.0      NaN   \n",
       "\n",
       "       number publisher                                             tags.2  \\\n",
       "0         NaN       NaN                                                NaN   \n",
       "1         3.0       NaN                                                 []   \n",
       "2         4.0       NaN                                                 []   \n",
       "3         6.0       NaN                                                 []   \n",
       "4         1.0       NaN                                                 []   \n",
       "...       ...       ...                                                ...   \n",
       "106570    3.0       NaN                                                 []   \n",
       "106571    4.0       NaN                                                 []   \n",
       "106572    6.0       NaN                                                 []   \n",
       "106573    5.0       NaN                                                 []   \n",
       "106574    7.0       NaN  ['ballad', 'epic', 'rockabilly', 'curse', 'hex...   \n",
       "\n",
       "                                          title.1  \n",
       "0                                             NaN  \n",
       "1                                            Food  \n",
       "2                                    Electric Ave  \n",
       "3                                      This World  \n",
       "4                                         Freeway  \n",
       "...                                           ...  \n",
       "106570                                  The Auger  \n",
       "106571                            Let's Skin Ruby  \n",
       "106572         My House Smells Like Kim Deal/Pulp  \n",
       "106573                    The Man With Two Mouths  \n",
       "106574  Another Trick Up My Sleeve (Instrumental)  \n",
       "\n",
       "[106575 rows x 53 columns]"
      ]
     },
     "execution_count": 51,
     "metadata": {},
     "output_type": "execute_result"
    }
   ],
   "source": [
    "tracks = pd.read_csv(\"data/fma_metadata/tracks.csv\", skiprows = 1) # skiprows защото първият ред не ни трябва\n",
    "tracks"
   ]
  },
  {
   "cell_type": "code",
   "execution_count": 52,
   "id": "0359b3d1",
   "metadata": {},
   "outputs": [],
   "source": [
    "tracks = tracks.drop(0)"
   ]
  },
  {
   "cell_type": "code",
   "execution_count": 53,
   "id": "65e464ad",
   "metadata": {},
   "outputs": [
    {
     "data": {
      "text/html": [
       "<div>\n",
       "<style scoped>\n",
       "    .dataframe tbody tr th:only-of-type {\n",
       "        vertical-align: middle;\n",
       "    }\n",
       "\n",
       "    .dataframe tbody tr th {\n",
       "        vertical-align: top;\n",
       "    }\n",
       "\n",
       "    .dataframe thead th {\n",
       "        text-align: right;\n",
       "    }\n",
       "</style>\n",
       "<table border=\"1\" class=\"dataframe\">\n",
       "  <thead>\n",
       "    <tr style=\"text-align: right;\">\n",
       "      <th></th>\n",
       "      <th>id</th>\n",
       "      <th>comments</th>\n",
       "      <th>date_created</th>\n",
       "      <th>date_released</th>\n",
       "      <th>engineer</th>\n",
       "      <th>favorites</th>\n",
       "      <th>id</th>\n",
       "      <th>information</th>\n",
       "      <th>listens</th>\n",
       "      <th>producer</th>\n",
       "      <th>...</th>\n",
       "      <th>information.1</th>\n",
       "      <th>interest</th>\n",
       "      <th>language_code</th>\n",
       "      <th>license</th>\n",
       "      <th>listens.1</th>\n",
       "      <th>lyricist</th>\n",
       "      <th>number</th>\n",
       "      <th>publisher</th>\n",
       "      <th>tags.2</th>\n",
       "      <th>title.1</th>\n",
       "    </tr>\n",
       "  </thead>\n",
       "  <tbody>\n",
       "    <tr>\n",
       "      <th>1</th>\n",
       "      <td>2</td>\n",
       "      <td>0.0</td>\n",
       "      <td>2008-11-26 01:44:45</td>\n",
       "      <td>2009-01-05 00:00:00</td>\n",
       "      <td>NaN</td>\n",
       "      <td>4.0</td>\n",
       "      <td>1.0</td>\n",
       "      <td>&lt;p&gt;&lt;/p&gt;</td>\n",
       "      <td>6073.0</td>\n",
       "      <td>NaN</td>\n",
       "      <td>...</td>\n",
       "      <td>NaN</td>\n",
       "      <td>4656.0</td>\n",
       "      <td>en</td>\n",
       "      <td>Attribution-NonCommercial-ShareAlike 3.0 Inter...</td>\n",
       "      <td>1293.0</td>\n",
       "      <td>NaN</td>\n",
       "      <td>3.0</td>\n",
       "      <td>NaN</td>\n",
       "      <td>[]</td>\n",
       "      <td>Food</td>\n",
       "    </tr>\n",
       "    <tr>\n",
       "      <th>2</th>\n",
       "      <td>3</td>\n",
       "      <td>0.0</td>\n",
       "      <td>2008-11-26 01:44:45</td>\n",
       "      <td>2009-01-05 00:00:00</td>\n",
       "      <td>NaN</td>\n",
       "      <td>4.0</td>\n",
       "      <td>1.0</td>\n",
       "      <td>&lt;p&gt;&lt;/p&gt;</td>\n",
       "      <td>6073.0</td>\n",
       "      <td>NaN</td>\n",
       "      <td>...</td>\n",
       "      <td>NaN</td>\n",
       "      <td>1470.0</td>\n",
       "      <td>en</td>\n",
       "      <td>Attribution-NonCommercial-ShareAlike 3.0 Inter...</td>\n",
       "      <td>514.0</td>\n",
       "      <td>NaN</td>\n",
       "      <td>4.0</td>\n",
       "      <td>NaN</td>\n",
       "      <td>[]</td>\n",
       "      <td>Electric Ave</td>\n",
       "    </tr>\n",
       "    <tr>\n",
       "      <th>3</th>\n",
       "      <td>5</td>\n",
       "      <td>0.0</td>\n",
       "      <td>2008-11-26 01:44:45</td>\n",
       "      <td>2009-01-05 00:00:00</td>\n",
       "      <td>NaN</td>\n",
       "      <td>4.0</td>\n",
       "      <td>1.0</td>\n",
       "      <td>&lt;p&gt;&lt;/p&gt;</td>\n",
       "      <td>6073.0</td>\n",
       "      <td>NaN</td>\n",
       "      <td>...</td>\n",
       "      <td>NaN</td>\n",
       "      <td>1933.0</td>\n",
       "      <td>en</td>\n",
       "      <td>Attribution-NonCommercial-ShareAlike 3.0 Inter...</td>\n",
       "      <td>1151.0</td>\n",
       "      <td>NaN</td>\n",
       "      <td>6.0</td>\n",
       "      <td>NaN</td>\n",
       "      <td>[]</td>\n",
       "      <td>This World</td>\n",
       "    </tr>\n",
       "    <tr>\n",
       "      <th>4</th>\n",
       "      <td>10</td>\n",
       "      <td>0.0</td>\n",
       "      <td>2008-11-26 01:45:08</td>\n",
       "      <td>2008-02-06 00:00:00</td>\n",
       "      <td>NaN</td>\n",
       "      <td>4.0</td>\n",
       "      <td>6.0</td>\n",
       "      <td>NaN</td>\n",
       "      <td>47632.0</td>\n",
       "      <td>NaN</td>\n",
       "      <td>...</td>\n",
       "      <td>NaN</td>\n",
       "      <td>54881.0</td>\n",
       "      <td>en</td>\n",
       "      <td>Attribution-NonCommercial-NoDerivatives (aka M...</td>\n",
       "      <td>50135.0</td>\n",
       "      <td>NaN</td>\n",
       "      <td>1.0</td>\n",
       "      <td>NaN</td>\n",
       "      <td>[]</td>\n",
       "      <td>Freeway</td>\n",
       "    </tr>\n",
       "    <tr>\n",
       "      <th>5</th>\n",
       "      <td>20</td>\n",
       "      <td>0.0</td>\n",
       "      <td>2008-11-26 01:45:05</td>\n",
       "      <td>2009-01-06 00:00:00</td>\n",
       "      <td>NaN</td>\n",
       "      <td>2.0</td>\n",
       "      <td>4.0</td>\n",
       "      <td>&lt;p&gt; \"spiritual songs\" from Nicky Cook&lt;/p&gt;</td>\n",
       "      <td>2710.0</td>\n",
       "      <td>NaN</td>\n",
       "      <td>...</td>\n",
       "      <td>NaN</td>\n",
       "      <td>978.0</td>\n",
       "      <td>en</td>\n",
       "      <td>Attribution-NonCommercial-NoDerivatives (aka M...</td>\n",
       "      <td>361.0</td>\n",
       "      <td>NaN</td>\n",
       "      <td>3.0</td>\n",
       "      <td>NaN</td>\n",
       "      <td>[]</td>\n",
       "      <td>Spiritual Level</td>\n",
       "    </tr>\n",
       "    <tr>\n",
       "      <th>...</th>\n",
       "      <td>...</td>\n",
       "      <td>...</td>\n",
       "      <td>...</td>\n",
       "      <td>...</td>\n",
       "      <td>...</td>\n",
       "      <td>...</td>\n",
       "      <td>...</td>\n",
       "      <td>...</td>\n",
       "      <td>...</td>\n",
       "      <td>...</td>\n",
       "      <td>...</td>\n",
       "      <td>...</td>\n",
       "      <td>...</td>\n",
       "      <td>...</td>\n",
       "      <td>...</td>\n",
       "      <td>...</td>\n",
       "      <td>...</td>\n",
       "      <td>...</td>\n",
       "      <td>...</td>\n",
       "      <td>...</td>\n",
       "      <td>...</td>\n",
       "    </tr>\n",
       "    <tr>\n",
       "      <th>106570</th>\n",
       "      <td>155316</td>\n",
       "      <td>0.0</td>\n",
       "      <td>2017-03-30 15:20:35</td>\n",
       "      <td>2017-02-17 00:00:00</td>\n",
       "      <td>NaN</td>\n",
       "      <td>0.0</td>\n",
       "      <td>22940.0</td>\n",
       "      <td>&lt;p&gt;A live performance at Monty Hall on Feb 17,...</td>\n",
       "      <td>1506.0</td>\n",
       "      <td>Monty Hall</td>\n",
       "      <td>...</td>\n",
       "      <td>NaN</td>\n",
       "      <td>122.0</td>\n",
       "      <td>NaN</td>\n",
       "      <td>Creative Commons Attribution-NonCommercial-NoD...</td>\n",
       "      <td>102.0</td>\n",
       "      <td>NaN</td>\n",
       "      <td>3.0</td>\n",
       "      <td>NaN</td>\n",
       "      <td>[]</td>\n",
       "      <td>The Auger</td>\n",
       "    </tr>\n",
       "    <tr>\n",
       "      <th>106571</th>\n",
       "      <td>155317</td>\n",
       "      <td>0.0</td>\n",
       "      <td>2017-03-30 15:20:35</td>\n",
       "      <td>2017-02-17 00:00:00</td>\n",
       "      <td>NaN</td>\n",
       "      <td>0.0</td>\n",
       "      <td>22940.0</td>\n",
       "      <td>&lt;p&gt;A live performance at Monty Hall on Feb 17,...</td>\n",
       "      <td>1506.0</td>\n",
       "      <td>Monty Hall</td>\n",
       "      <td>...</td>\n",
       "      <td>NaN</td>\n",
       "      <td>194.0</td>\n",
       "      <td>NaN</td>\n",
       "      <td>Creative Commons Attribution-NonCommercial-NoD...</td>\n",
       "      <td>165.0</td>\n",
       "      <td>NaN</td>\n",
       "      <td>4.0</td>\n",
       "      <td>NaN</td>\n",
       "      <td>[]</td>\n",
       "      <td>Let's Skin Ruby</td>\n",
       "    </tr>\n",
       "    <tr>\n",
       "      <th>106572</th>\n",
       "      <td>155318</td>\n",
       "      <td>0.0</td>\n",
       "      <td>2017-03-30 15:20:35</td>\n",
       "      <td>2017-02-17 00:00:00</td>\n",
       "      <td>NaN</td>\n",
       "      <td>0.0</td>\n",
       "      <td>22940.0</td>\n",
       "      <td>&lt;p&gt;A live performance at Monty Hall on Feb 17,...</td>\n",
       "      <td>1506.0</td>\n",
       "      <td>Monty Hall</td>\n",
       "      <td>...</td>\n",
       "      <td>NaN</td>\n",
       "      <td>214.0</td>\n",
       "      <td>NaN</td>\n",
       "      <td>Creative Commons Attribution-NonCommercial-NoD...</td>\n",
       "      <td>168.0</td>\n",
       "      <td>NaN</td>\n",
       "      <td>6.0</td>\n",
       "      <td>NaN</td>\n",
       "      <td>[]</td>\n",
       "      <td>My House Smells Like Kim Deal/Pulp</td>\n",
       "    </tr>\n",
       "    <tr>\n",
       "      <th>106573</th>\n",
       "      <td>155319</td>\n",
       "      <td>0.0</td>\n",
       "      <td>2017-03-30 15:20:35</td>\n",
       "      <td>2017-02-17 00:00:00</td>\n",
       "      <td>NaN</td>\n",
       "      <td>0.0</td>\n",
       "      <td>22940.0</td>\n",
       "      <td>&lt;p&gt;A live performance at Monty Hall on Feb 17,...</td>\n",
       "      <td>1506.0</td>\n",
       "      <td>Monty Hall</td>\n",
       "      <td>...</td>\n",
       "      <td>NaN</td>\n",
       "      <td>336.0</td>\n",
       "      <td>NaN</td>\n",
       "      <td>Creative Commons Attribution-NonCommercial-NoD...</td>\n",
       "      <td>294.0</td>\n",
       "      <td>NaN</td>\n",
       "      <td>5.0</td>\n",
       "      <td>NaN</td>\n",
       "      <td>[]</td>\n",
       "      <td>The Man With Two Mouths</td>\n",
       "    </tr>\n",
       "    <tr>\n",
       "      <th>106574</th>\n",
       "      <td>155320</td>\n",
       "      <td>0.0</td>\n",
       "      <td>2017-03-26 16:22:18</td>\n",
       "      <td>2017-03-26 00:00:00</td>\n",
       "      <td>NaN</td>\n",
       "      <td>1.0</td>\n",
       "      <td>22906.0</td>\n",
       "      <td>NaN</td>\n",
       "      <td>7481.0</td>\n",
       "      <td>NaN</td>\n",
       "      <td>...</td>\n",
       "      <td>NaN</td>\n",
       "      <td>972.0</td>\n",
       "      <td>NaN</td>\n",
       "      <td>Attribution-NonCommercial</td>\n",
       "      <td>705.0</td>\n",
       "      <td>NaN</td>\n",
       "      <td>7.0</td>\n",
       "      <td>NaN</td>\n",
       "      <td>['ballad', 'epic', 'rockabilly', 'curse', 'hex...</td>\n",
       "      <td>Another Trick Up My Sleeve (Instrumental)</td>\n",
       "    </tr>\n",
       "  </tbody>\n",
       "</table>\n",
       "<p>106574 rows × 53 columns</p>\n",
       "</div>"
      ],
      "text/plain": [
       "            id  comments         date_created        date_released engineer  \\\n",
       "1            2       0.0  2008-11-26 01:44:45  2009-01-05 00:00:00      NaN   \n",
       "2            3       0.0  2008-11-26 01:44:45  2009-01-05 00:00:00      NaN   \n",
       "3            5       0.0  2008-11-26 01:44:45  2009-01-05 00:00:00      NaN   \n",
       "4           10       0.0  2008-11-26 01:45:08  2008-02-06 00:00:00      NaN   \n",
       "5           20       0.0  2008-11-26 01:45:05  2009-01-06 00:00:00      NaN   \n",
       "...        ...       ...                  ...                  ...      ...   \n",
       "106570  155316       0.0  2017-03-30 15:20:35  2017-02-17 00:00:00      NaN   \n",
       "106571  155317       0.0  2017-03-30 15:20:35  2017-02-17 00:00:00      NaN   \n",
       "106572  155318       0.0  2017-03-30 15:20:35  2017-02-17 00:00:00      NaN   \n",
       "106573  155319       0.0  2017-03-30 15:20:35  2017-02-17 00:00:00      NaN   \n",
       "106574  155320       0.0  2017-03-26 16:22:18  2017-03-26 00:00:00      NaN   \n",
       "\n",
       "        favorites       id                                        information  \\\n",
       "1             4.0      1.0                                            <p></p>   \n",
       "2             4.0      1.0                                            <p></p>   \n",
       "3             4.0      1.0                                            <p></p>   \n",
       "4             4.0      6.0                                                NaN   \n",
       "5             2.0      4.0          <p> \"spiritual songs\" from Nicky Cook</p>   \n",
       "...           ...      ...                                                ...   \n",
       "106570        0.0  22940.0  <p>A live performance at Monty Hall on Feb 17,...   \n",
       "106571        0.0  22940.0  <p>A live performance at Monty Hall on Feb 17,...   \n",
       "106572        0.0  22940.0  <p>A live performance at Monty Hall on Feb 17,...   \n",
       "106573        0.0  22940.0  <p>A live performance at Monty Hall on Feb 17,...   \n",
       "106574        1.0  22906.0                                                NaN   \n",
       "\n",
       "        listens     producer  ... information.1 interest  language_code  \\\n",
       "1        6073.0          NaN  ...           NaN   4656.0             en   \n",
       "2        6073.0          NaN  ...           NaN   1470.0             en   \n",
       "3        6073.0          NaN  ...           NaN   1933.0             en   \n",
       "4       47632.0          NaN  ...           NaN  54881.0             en   \n",
       "5        2710.0          NaN  ...           NaN    978.0             en   \n",
       "...         ...          ...  ...           ...      ...            ...   \n",
       "106570   1506.0  Monty Hall   ...           NaN    122.0            NaN   \n",
       "106571   1506.0  Monty Hall   ...           NaN    194.0            NaN   \n",
       "106572   1506.0  Monty Hall   ...           NaN    214.0            NaN   \n",
       "106573   1506.0  Monty Hall   ...           NaN    336.0            NaN   \n",
       "106574   7481.0          NaN  ...           NaN    972.0            NaN   \n",
       "\n",
       "                                                  license listens.1 lyricist  \\\n",
       "1       Attribution-NonCommercial-ShareAlike 3.0 Inter...    1293.0      NaN   \n",
       "2       Attribution-NonCommercial-ShareAlike 3.0 Inter...     514.0      NaN   \n",
       "3       Attribution-NonCommercial-ShareAlike 3.0 Inter...    1151.0      NaN   \n",
       "4       Attribution-NonCommercial-NoDerivatives (aka M...   50135.0      NaN   \n",
       "5       Attribution-NonCommercial-NoDerivatives (aka M...     361.0      NaN   \n",
       "...                                                   ...       ...      ...   \n",
       "106570  Creative Commons Attribution-NonCommercial-NoD...     102.0      NaN   \n",
       "106571  Creative Commons Attribution-NonCommercial-NoD...     165.0      NaN   \n",
       "106572  Creative Commons Attribution-NonCommercial-NoD...     168.0      NaN   \n",
       "106573  Creative Commons Attribution-NonCommercial-NoD...     294.0      NaN   \n",
       "106574                          Attribution-NonCommercial     705.0      NaN   \n",
       "\n",
       "       number publisher                                             tags.2  \\\n",
       "1         3.0       NaN                                                 []   \n",
       "2         4.0       NaN                                                 []   \n",
       "3         6.0       NaN                                                 []   \n",
       "4         1.0       NaN                                                 []   \n",
       "5         3.0       NaN                                                 []   \n",
       "...       ...       ...                                                ...   \n",
       "106570    3.0       NaN                                                 []   \n",
       "106571    4.0       NaN                                                 []   \n",
       "106572    6.0       NaN                                                 []   \n",
       "106573    5.0       NaN                                                 []   \n",
       "106574    7.0       NaN  ['ballad', 'epic', 'rockabilly', 'curse', 'hex...   \n",
       "\n",
       "                                          title.1  \n",
       "1                                            Food  \n",
       "2                                    Electric Ave  \n",
       "3                                      This World  \n",
       "4                                         Freeway  \n",
       "5                                 Spiritual Level  \n",
       "...                                           ...  \n",
       "106570                                  The Auger  \n",
       "106571                            Let's Skin Ruby  \n",
       "106572         My House Smells Like Kim Deal/Pulp  \n",
       "106573                    The Man With Two Mouths  \n",
       "106574  Another Trick Up My Sleeve (Instrumental)  \n",
       "\n",
       "[106574 rows x 53 columns]"
      ]
     },
     "execution_count": 53,
     "metadata": {},
     "output_type": "execute_result"
    }
   ],
   "source": [
    "tracks.rename(columns = {\"Unnamed: 0\" : \"id\"})"
   ]
  },
  {
   "cell_type": "code",
   "execution_count": 54,
   "id": "dd7f139d",
   "metadata": {},
   "outputs": [
    {
     "data": {
      "text/plain": [
       "Index(['Unnamed: 0', 'comments', 'date_created', 'date_released', 'engineer',\n",
       "       'favorites', 'id', 'information', 'listens', 'producer', 'tags',\n",
       "       'title', 'tracks', 'type', 'active_year_begin', 'active_year_end',\n",
       "       'associated_labels', 'bio', 'comments.1', 'date_created.1',\n",
       "       'favorites.1', 'id.1', 'latitude', 'location', 'longitude', 'members',\n",
       "       'name', 'related_projects', 'tags.1', 'website', 'wikipedia_page',\n",
       "       'split', 'subset', 'bit_rate', 'comments.2', 'composer',\n",
       "       'date_created.2', 'date_recorded', 'duration', 'favorites.2',\n",
       "       'genre_top', 'genres', 'genres_all', 'information.1', 'interest',\n",
       "       'language_code', 'license', 'listens.1', 'lyricist', 'number',\n",
       "       'publisher', 'tags.2', 'title.1'],\n",
       "      dtype='object')"
      ]
     },
     "execution_count": 54,
     "metadata": {},
     "output_type": "execute_result"
    }
   ],
   "source": [
    "tracks.columns"
   ]
  },
  {
   "cell_type": "code",
   "execution_count": 55,
   "id": "ee82c9a6",
   "metadata": {},
   "outputs": [
    {
     "data": {
      "text/plain": [
       "1         Hip-Hop\n",
       "2         Hip-Hop\n",
       "3         Hip-Hop\n",
       "4             Pop\n",
       "5             NaN\n",
       "           ...   \n",
       "106570       Rock\n",
       "106571       Rock\n",
       "106572       Rock\n",
       "106573       Rock\n",
       "106574        NaN\n",
       "Name: genre_top, Length: 106574, dtype: object"
      ]
     },
     "execution_count": 55,
     "metadata": {},
     "output_type": "execute_result"
    }
   ],
   "source": [
    "tracks[\"genre_top\"]"
   ]
  },
  {
   "cell_type": "code",
   "execution_count": 57,
   "id": "812c75d3",
   "metadata": {},
   "outputs": [
    {
     "data": {
      "text/plain": [
       "1                      [21]\n",
       "2                      [21]\n",
       "3                      [21]\n",
       "4                      [10]\n",
       "5         [17, 10, 76, 103]\n",
       "                ...        \n",
       "106570             [25, 12]\n",
       "106571             [25, 12]\n",
       "106572             [25, 12]\n",
       "106573             [25, 12]\n",
       "106574     [169, 10, 12, 9]\n",
       "Name: genres_all, Length: 106574, dtype: object"
      ]
     },
     "execution_count": 57,
     "metadata": {},
     "output_type": "execute_result"
    }
   ],
   "source": [
    "tracks[\"genres_all\"]"
   ]
  },
  {
   "cell_type": "code",
   "execution_count": 58,
   "id": "098c93ff",
   "metadata": {},
   "outputs": [
    {
     "data": {
      "text/plain": [
       "Unnamed: 0            object\n",
       "comments             float64\n",
       "date_created          object\n",
       "date_released         object\n",
       "engineer              object\n",
       "favorites            float64\n",
       "id                   float64\n",
       "information           object\n",
       "listens              float64\n",
       "producer              object\n",
       "tags                  object\n",
       "title                 object\n",
       "tracks               float64\n",
       "type                  object\n",
       "active_year_begin     object\n",
       "active_year_end       object\n",
       "associated_labels     object\n",
       "bio                   object\n",
       "comments.1           float64\n",
       "date_created.1        object\n",
       "favorites.1          float64\n",
       "id.1                 float64\n",
       "latitude             float64\n",
       "location              object\n",
       "longitude            float64\n",
       "members               object\n",
       "name                  object\n",
       "related_projects      object\n",
       "tags.1                object\n",
       "website               object\n",
       "wikipedia_page        object\n",
       "split                 object\n",
       "subset                object\n",
       "bit_rate             float64\n",
       "comments.2           float64\n",
       "composer              object\n",
       "date_created.2        object\n",
       "date_recorded         object\n",
       "duration             float64\n",
       "favorites.2          float64\n",
       "genre_top             object\n",
       "genres                object\n",
       "genres_all            object\n",
       "information.1         object\n",
       "interest             float64\n",
       "language_code         object\n",
       "license               object\n",
       "listens.1            float64\n",
       "lyricist              object\n",
       "number               float64\n",
       "publisher             object\n",
       "tags.2                object\n",
       "title.1               object\n",
       "dtype: object"
      ]
     },
     "execution_count": 58,
     "metadata": {},
     "output_type": "execute_result"
    }
   ],
   "source": [
    "tracks.dtypes"
   ]
  },
  {
   "cell_type": "code",
   "execution_count": 60,
   "id": "67ccf350",
   "metadata": {},
   "outputs": [
    {
     "data": {
      "text/html": [
       "<div>\n",
       "<style scoped>\n",
       "    .dataframe tbody tr th:only-of-type {\n",
       "        vertical-align: middle;\n",
       "    }\n",
       "\n",
       "    .dataframe tbody tr th {\n",
       "        vertical-align: top;\n",
       "    }\n",
       "\n",
       "    .dataframe thead th {\n",
       "        text-align: right;\n",
       "    }\n",
       "</style>\n",
       "<table border=\"1\" class=\"dataframe\">\n",
       "  <thead>\n",
       "    <tr style=\"text-align: right;\">\n",
       "      <th></th>\n",
       "      <th>genre_id</th>\n",
       "      <th>#tracks</th>\n",
       "      <th>parent</th>\n",
       "      <th>title</th>\n",
       "      <th>top_level</th>\n",
       "    </tr>\n",
       "  </thead>\n",
       "  <tbody>\n",
       "    <tr>\n",
       "      <th>0</th>\n",
       "      <td>1</td>\n",
       "      <td>8693</td>\n",
       "      <td>38</td>\n",
       "      <td>Avant-Garde</td>\n",
       "      <td>38</td>\n",
       "    </tr>\n",
       "    <tr>\n",
       "      <th>1</th>\n",
       "      <td>2</td>\n",
       "      <td>5271</td>\n",
       "      <td>0</td>\n",
       "      <td>International</td>\n",
       "      <td>2</td>\n",
       "    </tr>\n",
       "    <tr>\n",
       "      <th>2</th>\n",
       "      <td>3</td>\n",
       "      <td>1752</td>\n",
       "      <td>0</td>\n",
       "      <td>Blues</td>\n",
       "      <td>3</td>\n",
       "    </tr>\n",
       "    <tr>\n",
       "      <th>3</th>\n",
       "      <td>4</td>\n",
       "      <td>4126</td>\n",
       "      <td>0</td>\n",
       "      <td>Jazz</td>\n",
       "      <td>4</td>\n",
       "    </tr>\n",
       "    <tr>\n",
       "      <th>4</th>\n",
       "      <td>5</td>\n",
       "      <td>4106</td>\n",
       "      <td>0</td>\n",
       "      <td>Classical</td>\n",
       "      <td>5</td>\n",
       "    </tr>\n",
       "    <tr>\n",
       "      <th>...</th>\n",
       "      <td>...</td>\n",
       "      <td>...</td>\n",
       "      <td>...</td>\n",
       "      <td>...</td>\n",
       "      <td>...</td>\n",
       "    </tr>\n",
       "    <tr>\n",
       "      <th>158</th>\n",
       "      <td>1032</td>\n",
       "      <td>60</td>\n",
       "      <td>102</td>\n",
       "      <td>Turkish</td>\n",
       "      <td>2</td>\n",
       "    </tr>\n",
       "    <tr>\n",
       "      <th>159</th>\n",
       "      <td>1060</td>\n",
       "      <td>30</td>\n",
       "      <td>46</td>\n",
       "      <td>Tango</td>\n",
       "      <td>2</td>\n",
       "    </tr>\n",
       "    <tr>\n",
       "      <th>160</th>\n",
       "      <td>1156</td>\n",
       "      <td>26</td>\n",
       "      <td>130</td>\n",
       "      <td>Fado</td>\n",
       "      <td>2</td>\n",
       "    </tr>\n",
       "    <tr>\n",
       "      <th>161</th>\n",
       "      <td>1193</td>\n",
       "      <td>72</td>\n",
       "      <td>763</td>\n",
       "      <td>Christmas</td>\n",
       "      <td>38</td>\n",
       "    </tr>\n",
       "    <tr>\n",
       "      <th>162</th>\n",
       "      <td>1235</td>\n",
       "      <td>14938</td>\n",
       "      <td>0</td>\n",
       "      <td>Instrumental</td>\n",
       "      <td>1235</td>\n",
       "    </tr>\n",
       "  </tbody>\n",
       "</table>\n",
       "<p>163 rows × 5 columns</p>\n",
       "</div>"
      ],
      "text/plain": [
       "     genre_id  #tracks  parent          title  top_level\n",
       "0           1     8693      38    Avant-Garde         38\n",
       "1           2     5271       0  International          2\n",
       "2           3     1752       0          Blues          3\n",
       "3           4     4126       0           Jazz          4\n",
       "4           5     4106       0      Classical          5\n",
       "..        ...      ...     ...            ...        ...\n",
       "158      1032       60     102        Turkish          2\n",
       "159      1060       30      46          Tango          2\n",
       "160      1156       26     130           Fado          2\n",
       "161      1193       72     763      Christmas         38\n",
       "162      1235    14938       0   Instrumental       1235\n",
       "\n",
       "[163 rows x 5 columns]"
      ]
     },
     "execution_count": 60,
     "metadata": {},
     "output_type": "execute_result"
    }
   ],
   "source": [
    "genres = pd.read_csv(\"data/fma_metadata/genres.csv\")\n",
    "genres"
   ]
  },
  {
   "cell_type": "code",
   "execution_count": 61,
   "id": "4c84b332",
   "metadata": {},
   "outputs": [],
   "source": [
    "sample_tracks = tracks.sample(50, random_state = 42) # 50 случайни записа - винаги едни и същи"
   ]
  },
  {
   "cell_type": "code",
   "execution_count": 66,
   "id": "eb24de92",
   "metadata": {},
   "outputs": [
    {
     "data": {
      "text/html": [
       "<div>\n",
       "<style scoped>\n",
       "    .dataframe tbody tr th:only-of-type {\n",
       "        vertical-align: middle;\n",
       "    }\n",
       "\n",
       "    .dataframe tbody tr th {\n",
       "        vertical-align: top;\n",
       "    }\n",
       "\n",
       "    .dataframe thead th {\n",
       "        text-align: right;\n",
       "    }\n",
       "</style>\n",
       "<table border=\"1\" class=\"dataframe\">\n",
       "  <thead>\n",
       "    <tr style=\"text-align: right;\">\n",
       "      <th></th>\n",
       "      <th>title_x</th>\n",
       "      <th>listens</th>\n",
       "      <th>title_y</th>\n",
       "    </tr>\n",
       "  </thead>\n",
       "  <tbody>\n",
       "    <tr>\n",
       "      <th>0</th>\n",
       "      <td>QUELLO ROTTO</td>\n",
       "      <td>3139.0</td>\n",
       "      <td>Hip-Hop</td>\n",
       "    </tr>\n",
       "    <tr>\n",
       "      <th>1</th>\n",
       "      <td>The Window</td>\n",
       "      <td>-1.0</td>\n",
       "      <td>Hip-Hop</td>\n",
       "    </tr>\n",
       "    <tr>\n",
       "      <th>2</th>\n",
       "      <td>The Mixtape Sessions</td>\n",
       "      <td>1809.0</td>\n",
       "      <td>Hip-Hop</td>\n",
       "    </tr>\n",
       "    <tr>\n",
       "      <th>3</th>\n",
       "      <td>Stimulus EP</td>\n",
       "      <td>1375.0</td>\n",
       "      <td>Hip-Hop</td>\n",
       "    </tr>\n",
       "    <tr>\n",
       "      <th>4</th>\n",
       "      <td>Live at WFMU on the Cherry Blossom Clinic May ...</td>\n",
       "      <td>4642.0</td>\n",
       "      <td>Rock</td>\n",
       "    </tr>\n",
       "    <tr>\n",
       "      <th>5</th>\n",
       "      <td>Their Music, Our Lives</td>\n",
       "      <td>10262.0</td>\n",
       "      <td>Rock</td>\n",
       "    </tr>\n",
       "    <tr>\n",
       "      <th>6</th>\n",
       "      <td>Live on WFMU's This Is The Modern World with T...</td>\n",
       "      <td>4492.0</td>\n",
       "      <td>Electronic</td>\n",
       "    </tr>\n",
       "    <tr>\n",
       "      <th>7</th>\n",
       "      <td>Chaotic Lives</td>\n",
       "      <td>796.0</td>\n",
       "      <td>Electronic</td>\n",
       "    </tr>\n",
       "    <tr>\n",
       "      <th>8</th>\n",
       "      <td>Basement Skylights (Tab, Anitek, A.U.R.C., Her...</td>\n",
       "      <td>23405.0</td>\n",
       "      <td>Electronic</td>\n",
       "    </tr>\n",
       "    <tr>\n",
       "      <th>9</th>\n",
       "      <td>Lost At Sea II</td>\n",
       "      <td>4661.0</td>\n",
       "      <td>Electronic</td>\n",
       "    </tr>\n",
       "    <tr>\n",
       "      <th>10</th>\n",
       "      <td>Skyzo Land</td>\n",
       "      <td>13562.0</td>\n",
       "      <td>Electronic</td>\n",
       "    </tr>\n",
       "    <tr>\n",
       "      <th>11</th>\n",
       "      <td>The Future Sound of Fratboys 1&amp;2</td>\n",
       "      <td>5380.0</td>\n",
       "      <td>Experimental</td>\n",
       "    </tr>\n",
       "    <tr>\n",
       "      <th>12</th>\n",
       "      <td>Untitled Strings</td>\n",
       "      <td>2297.0</td>\n",
       "      <td>Experimental</td>\n",
       "    </tr>\n",
       "    <tr>\n",
       "      <th>13</th>\n",
       "      <td>Burials</td>\n",
       "      <td>3142.0</td>\n",
       "      <td>Folk</td>\n",
       "    </tr>\n",
       "    <tr>\n",
       "      <th>14</th>\n",
       "      <td>Spring</td>\n",
       "      <td>14749.0</td>\n",
       "      <td>Pop</td>\n",
       "    </tr>\n",
       "  </tbody>\n",
       "</table>\n",
       "</div>"
      ],
      "text/plain": [
       "                                              title_x  listens       title_y\n",
       "0                                        QUELLO ROTTO   3139.0       Hip-Hop\n",
       "1                                          The Window     -1.0       Hip-Hop\n",
       "2                                The Mixtape Sessions   1809.0       Hip-Hop\n",
       "3                                         Stimulus EP   1375.0       Hip-Hop\n",
       "4   Live at WFMU on the Cherry Blossom Clinic May ...   4642.0          Rock\n",
       "5                              Their Music, Our Lives  10262.0          Rock\n",
       "6   Live on WFMU's This Is The Modern World with T...   4492.0    Electronic\n",
       "7                                       Chaotic Lives    796.0    Electronic\n",
       "8   Basement Skylights (Tab, Anitek, A.U.R.C., Her...  23405.0    Electronic\n",
       "9                                      Lost At Sea II   4661.0    Electronic\n",
       "10                                         Skyzo Land  13562.0    Electronic\n",
       "11                   The Future Sound of Fratboys 1&2   5380.0  Experimental\n",
       "12                                   Untitled Strings   2297.0  Experimental\n",
       "13                                            Burials   3142.0          Folk\n",
       "14                                             Spring  14749.0           Pop"
      ]
     },
     "execution_count": 66,
     "metadata": {},
     "output_type": "execute_result"
    }
   ],
   "source": [
    "sample_tracks.merge(\n",
    "    genres,\n",
    "    how = \"left\" # left join\n",
    "    left_on = \"genre_top\", right_on = \"title\")[[\"title_x\", \"listens\", \"title_y\"]] #използваме само on ако имената на колоните са еднакви"
   ]
  }
 ],
 "metadata": {
  "kernelspec": {
   "display_name": "Python 3 (ipykernel)",
   "language": "python",
   "name": "python3"
  },
  "language_info": {
   "codemirror_mode": {
    "name": "ipython",
    "version": 3
   },
   "file_extension": ".py",
   "mimetype": "text/x-python",
   "name": "python",
   "nbconvert_exporter": "python",
   "pygments_lexer": "ipython3",
   "version": "3.10.5"
  }
 },
 "nbformat": 4,
 "nbformat_minor": 5
}
