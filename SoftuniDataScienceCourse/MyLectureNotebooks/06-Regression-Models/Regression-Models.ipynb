{
 "cells": [
  {
   "cell_type": "markdown",
   "id": "df0c2571",
   "metadata": {},
   "source": [
    "# Regression-Models"
   ]
  },
  {
   "cell_type": "markdown",
   "id": "f7ab4513",
   "metadata": {},
   "source": [
    "# Data Modeling\n",
    "Всеки един процес има вход и изход\n",
    "Един и същи вход може да доведе до различен изход\n",
    "Случайна променлива - има слиучайни елементи, които и влиаят\n",
    "Случайни грешки\n",
    "Наклонности - неща, които сме изпуснали, човешка грешка\n",
    "Модел - "
   ]
  },
  {
   "cell_type": "markdown",
   "id": "a8c99dc4",
   "metadata": {},
   "source": [
    "## Peek at machine learning\n",
    "machine learning - making computers learn with experience, without being explicitly programmed\n",
    "Regression - цел да предскажем число\n",
    "Classification - цел да предскажем категория"
   ]
  },
  {
   "cell_type": "code",
   "execution_count": null,
   "id": "78bf25ff",
   "metadata": {},
   "outputs": [],
   "source": []
  },
  {
   "cell_type": "code",
   "execution_count": null,
   "id": "b82cc073",
   "metadata": {},
   "outputs": [],
   "source": [
    "x = np.linspace(-3, 5, 10)\n",
    "y = 2 * x + 3\n",
    "y_noice = np.random,normal(loc = 0, scale = 1, size = len((y))\n",
    "y += y_noice"
   ]
  },
  {
   "cell_type": "code",
   "execution_count": null,
   "id": "b6ba0f83",
   "metadata": {},
   "outputs": [],
   "source": [
    "plt.scatter(x, y)\n",
    "plt.xlabel(\"x\")\n",
    "plt.ylabel(\"y\")\n",
    "plt.show()"
   ]
  },
  {
   "cell_type": "code",
   "execution_count": null,
   "id": "b3b1b457",
   "metadata": {},
   "outputs": [],
   "source": [
    "x, y"
   ]
  },
  {
   "cell_type": "code",
   "execution_count": null,
   "id": "d7fa5a58",
   "metadata": {},
   "outputs": [],
   "source": [
    "x = np.array([])\n",
    "y = np.array([])"
   ]
  },
  {
   "cell_type": "code",
   "execution_count": null,
   "id": "5ecbd06a",
   "metadata": {},
   "outputs": [],
   "source": [
    "for y_guess in [3 * x + 8, 4 * x + 3, -2 * x]\n",
    "    plt.plot(x, y_guess)\n",
    "    plt.show()"
   ]
  },
  {
   "cell_type": "code",
   "execution_count": null,
   "id": "9dfb0f43",
   "metadata": {},
   "outputs": [],
   "source": []
  },
  {
   "cell_type": "code",
   "execution_count": null,
   "id": "17209687",
   "metadata": {},
   "outputs": [],
   "source": []
  },
  {
   "cell_type": "code",
   "execution_count": null,
   "id": "bbabe8b3",
   "metadata": {},
   "outputs": [],
   "source": []
  }
 ],
 "metadata": {
  "kernelspec": {
   "display_name": "Python 3 (ipykernel)",
   "language": "python",
   "name": "python3"
  },
  "language_info": {
   "codemirror_mode": {
    "name": "ipython",
    "version": 3
   },
   "file_extension": ".py",
   "mimetype": "text/x-python",
   "name": "python",
   "nbconvert_exporter": "python",
   "pygments_lexer": "ipython3",
   "version": "3.10.5"
  }
 },
 "nbformat": 4,
 "nbformat_minor": 5
}
