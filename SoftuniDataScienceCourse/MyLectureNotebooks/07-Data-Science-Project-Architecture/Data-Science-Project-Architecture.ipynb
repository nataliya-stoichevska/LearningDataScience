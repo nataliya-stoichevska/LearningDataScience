{
 "cells": [
  {
   "cell_type": "markdown",
   "id": "3aab55b9",
   "metadata": {},
   "source": [
    "# Data Science Project Architecture"
   ]
  },
  {
   "cell_type": "code",
   "execution_count": 2,
   "id": "cfdc8cf8",
   "metadata": {},
   "outputs": [],
   "source": [
    "%matplotlib inline"
   ]
  },
  {
   "cell_type": "code",
   "execution_count": 25,
   "id": "e4a24d8a",
   "metadata": {},
   "outputs": [],
   "source": [
    "import numpy as np\n",
    "import pandas as pd\n",
    "import matplotlib.pyplot as plt\n",
    "import time"
   ]
  },
  {
   "cell_type": "code",
   "execution_count": 4,
   "id": "d860f422",
   "metadata": {},
   "outputs": [
    {
     "name": "stdout",
     "output_type": "stream",
     "text": [
      "The Zen of Python, by Tim Peters\n",
      "\n",
      "Beautiful is better than ugly.\n",
      "Explicit is better than implicit.\n",
      "Simple is better than complex.\n",
      "Complex is better than complicated.\n",
      "Flat is better than nested.\n",
      "Sparse is better than dense.\n",
      "Readability counts.\n",
      "Special cases aren't special enough to break the rules.\n",
      "Although practicality beats purity.\n",
      "Errors should never pass silently.\n",
      "Unless explicitly silenced.\n",
      "In the face of ambiguity, refuse the temptation to guess.\n",
      "There should be one-- and preferably only one --obvious way to do it.\n",
      "Although that way may not be obvious at first unless you're Dutch.\n",
      "Now is better than never.\n",
      "Although never is often better than *right* now.\n",
      "If the implementation is hard to explain, it's a bad idea.\n",
      "If the implementation is easy to explain, it may be a good idea.\n",
      "Namespaces are one honking great idea -- let's do more of those!\n"
     ]
    }
   ],
   "source": [
    "import this # The Zen of Python "
   ]
  },
  {
   "cell_type": "markdown",
   "id": "8f3fec9b",
   "metadata": {},
   "source": [
    "## [Google Python Style Guide](https://google.github.io/styleguide/pyguide.html)"
   ]
  },
  {
   "attachments": {},
   "cell_type": "markdown",
   "id": "56fc4023",
   "metadata": {},
   "source": [
    "## Naming stuff\n",
    "\n",
    "* lower_with_under – variables, functions, files, folders\n",
    "* UPPER_WITH_UNDER – global constants\n",
    "* PascalCase – class names, folders\n",
    "* camelCase – only to conform to existing conventions\n",
    "* Notes\n",
    "    * \\_leading_underscore – marks a private variable\n",
    "        * Not truly private, only a signal to developers not to mess with it\n",
    "        * \\_\\_double_leading_underscore – “mangles” variable names\n",
    "    * __double_underscores__ – special variables or methods\n",
    "        * \\_\\_name\\_\\_, \\_\\_doc\\_\\_, \\_\\_init\\_\\_, \\_\\_str\\_\\_, \\_\\_repr\\_\\_, \\_\\_len\\_\\_, etc."
   ]
  },
  {
   "cell_type": "code",
   "execution_count": 5,
   "id": "1e0ba952",
   "metadata": {},
   "outputs": [],
   "source": [
    "numbers = [2, 5, 18, -4]"
   ]
  },
  {
   "cell_type": "code",
   "execution_count": 6,
   "id": "eca7dd2b",
   "metadata": {},
   "outputs": [
    {
     "data": {
      "text/plain": [
       "list"
      ]
     },
     "execution_count": 6,
     "metadata": {},
     "output_type": "execute_result"
    }
   ],
   "source": [
    "type(numbers)"
   ]
  },
  {
   "cell_type": "code",
   "execution_count": 7,
   "id": "da214a79",
   "metadata": {},
   "outputs": [
    {
     "data": {
      "text/plain": [
       "4"
      ]
     },
     "execution_count": 7,
     "metadata": {},
     "output_type": "execute_result"
    }
   ],
   "source": [
    "len(numbers)"
   ]
  },
  {
   "cell_type": "code",
   "execution_count": 8,
   "id": "7c13f6ec",
   "metadata": {},
   "outputs": [
    {
     "data": {
      "text/plain": [
       "['__add__',\n",
       " '__class__',\n",
       " '__class_getitem__',\n",
       " '__contains__',\n",
       " '__delattr__',\n",
       " '__delitem__',\n",
       " '__dir__',\n",
       " '__doc__',\n",
       " '__eq__',\n",
       " '__format__',\n",
       " '__ge__',\n",
       " '__getattribute__',\n",
       " '__getitem__',\n",
       " '__gt__',\n",
       " '__hash__',\n",
       " '__iadd__',\n",
       " '__imul__',\n",
       " '__init__',\n",
       " '__init_subclass__',\n",
       " '__iter__',\n",
       " '__le__',\n",
       " '__len__',\n",
       " '__lt__',\n",
       " '__mul__',\n",
       " '__ne__',\n",
       " '__new__',\n",
       " '__reduce__',\n",
       " '__reduce_ex__',\n",
       " '__repr__',\n",
       " '__reversed__',\n",
       " '__rmul__',\n",
       " '__setattr__',\n",
       " '__setitem__',\n",
       " '__sizeof__',\n",
       " '__str__',\n",
       " '__subclasshook__',\n",
       " 'append',\n",
       " 'clear',\n",
       " 'copy',\n",
       " 'count',\n",
       " 'extend',\n",
       " 'index',\n",
       " 'insert',\n",
       " 'pop',\n",
       " 'remove',\n",
       " 'reverse',\n",
       " 'sort']"
      ]
     },
     "execution_count": 8,
     "metadata": {},
     "output_type": "execute_result"
    }
   ],
   "source": [
    "dir(numbers)"
   ]
  },
  {
   "cell_type": "code",
   "execution_count": 9,
   "id": "3d73f255",
   "metadata": {},
   "outputs": [
    {
     "data": {
      "text/plain": [
       "<method-wrapper '__len__' of list object at 0x000002303AF4F400>"
      ]
     },
     "execution_count": 9,
     "metadata": {},
     "output_type": "execute_result"
    }
   ],
   "source": [
    "numbers.__len__"
   ]
  },
  {
   "cell_type": "code",
   "execution_count": 10,
   "id": "3658dbe8",
   "metadata": {},
   "outputs": [
    {
     "data": {
      "text/plain": [
       "4"
      ]
     },
     "execution_count": 10,
     "metadata": {},
     "output_type": "execute_result"
    }
   ],
   "source": [
    "numbers.__len__()"
   ]
  },
  {
   "cell_type": "code",
   "execution_count": 11,
   "id": "086506de",
   "metadata": {},
   "outputs": [
    {
     "data": {
      "text/plain": [
       "'[2, 5, 18, -4]'"
      ]
     },
     "execution_count": 11,
     "metadata": {},
     "output_type": "execute_result"
    }
   ],
   "source": [
    "numbers.__str__() # structure"
   ]
  },
  {
   "cell_type": "code",
   "execution_count": 15,
   "id": "732c3af8",
   "metadata": {},
   "outputs": [],
   "source": [
    "iterator = numbers.__iter__()"
   ]
  },
  {
   "cell_type": "code",
   "execution_count": 16,
   "id": "66514aef",
   "metadata": {},
   "outputs": [
    {
     "data": {
      "text/plain": [
       "2"
      ]
     },
     "execution_count": 16,
     "metadata": {},
     "output_type": "execute_result"
    }
   ],
   "source": [
    "iterator.__next__()"
   ]
  },
  {
   "attachments": {},
   "cell_type": "markdown",
   "id": "9c34546c",
   "metadata": {},
   "source": [
    "## Readability\n",
    "\n",
    "* Use imports for modules and packages\n",
    "* Avoid global variables\n",
    "    * Pollute the global scope\n",
    "    * Can create subtle dependencies in the code\n",
    "    * Try using function parameters (and / or classes)\n",
    "* List comprehensions, lambdas, conditional expressions\n",
    "    * Okay for simple, one-line cases"
   ]
  },
  {
   "cell_type": "code",
   "execution_count": 18,
   "id": "ded8e7ff",
   "metadata": {},
   "outputs": [
    {
     "name": "stdout",
     "output_type": "stream",
     "text": [
      "[3, 4, 5]\n",
      "odd\n"
     ]
    }
   ],
   "source": [
    "a = 5\n",
    "print([x + 3 for x in range(3)])\n",
    "sum_two_nums = lambda x, y: x + y\n",
    "print(\"even\" if a % 2 == 0 else \"odd\")"
   ]
  },
  {
   "attachments": {},
   "cell_type": "markdown",
   "id": "dab8d8ff",
   "metadata": {},
   "source": [
    "* Lexical scoping (closures) – use very carefully"
   ]
  },
  {
   "cell_type": "code",
   "execution_count": 20,
   "id": "597d1ed7",
   "metadata": {},
   "outputs": [],
   "source": [
    "def summator(a): # Usage: summator(4)(5)\n",
    "    def inner_summator(b):\n",
    "        return a + b \n",
    "    return inner_summator"
   ]
  },
  {
   "attachments": {},
   "cell_type": "markdown",
   "id": "924fba62",
   "metadata": {},
   "source": [
    "* Whitespace\n",
    "    * **DO NOT** mix tabs and spaces!\n",
    "        * Prefer spaces (text editors replace 1 tab with 4 spaces by default)\n",
    "        * This can create a lot of pain and sinister bugs\n",
    "    * 1-2 blank lines between variables, functions and methods\n",
    "    * Use typography rules (e.g. 1 space after comma)\n",
    "* Comments\n",
    "    * Avoid inline comments"
   ]
  },
  {
   "cell_type": "code",
   "execution_count": 22,
   "id": "4fff5a86",
   "metadata": {},
   "outputs": [],
   "source": [
    "x= 3\n",
    "x = x + 1 # Increment x by 1"
   ]
  },
  {
   "attachments": {},
   "cell_type": "markdown",
   "id": "ef25395d",
   "metadata": {},
   "source": [
    "* Docstrings – a way of documenting the code, unique to Python\n",
    "    * More info [here](https://peps.python.org/pep-0257/)\n",
    "* TODO comments: temporary code, short-term solution, or good enough but not perfect"
   ]
  },
  {
   "attachments": {},
   "cell_type": "markdown",
   "id": "bdc9f648",
   "metadata": {},
   "source": [
    "## Object-Oriented Programming\n",
    "\n",
    "* Python has OOP\n",
    "* For most of our purposes, it's not necessary\n",
    "    * We have used a lot of objects, but we didn't really need to create classes\n",
    "* We generally prefer a combination of procedural and functional style\n",
    "* If you're comfortable, feel free to use classes\n",
    "    * All principles from other OOP languages apply\n",
    "    * Once again, the goal is to create readable code, which is easier to maintain"
   ]
  },
  {
   "attachments": {},
   "cell_type": "markdown",
   "id": "3dec9a78",
   "metadata": {},
   "source": [
    "## Notebook Structure\n",
    "\n",
    "* Similar to scientific papers\n",
    "* Imports – usually the first cell contains all imports\n",
    "* Title, author(s)\n",
    "* Abstract – not mandatory, but really good to have\n",
    "* Data manipulation process\n",
    "    * Divided into sections and subsections\n",
    "    * Most commonly: getting data, transformations, visualization, modelling, etc.\n",
    "* Conclusion(s)\n",
    "* Tips\n",
    "    * Make sections self-contained, reduce dependencies\n",
    "    * Create functions when possible\n",
    "        * To avoid creating too many global variables"
   ]
  },
  {
   "attachments": {},
   "cell_type": "markdown",
   "id": "afc8c288",
   "metadata": {},
   "source": [
    "## File Structure\n",
    "\n",
    "* Usually, projects have one notebook\n",
    "    * You may include many notebooks if you wish\n",
    "    * You can also import code from notebooks\n",
    "* Very long code can be separated in .py files\n",
    "    * Not greatly recommended, but sometimes helps\n",
    "        * E.g., if the file contains a lot of utility functions\n",
    "* Using: simply import the files\n",
    "    * Using the file names\n",
    "    * You can also create folders and import them\n",
    "        * These are called \"modules\"\n",
    "    * We usually put all code in a separate folder, e.g., libs or utilities\n",
    "* Data, images and other assets should also be in their own folders"
   ]
  },
  {
   "attachments": {},
   "cell_type": "markdown",
   "id": "dd48638b",
   "metadata": {},
   "source": [
    "## Debugging\n",
    "\n",
    "* Hardest way: don't debug at all\n",
    "* Easier: use print() statements\u000b",
    "at important places\n",
    "* Best: use a debugger to trace \u000b",
    "the code execution\n",
    "    * Every IDE (such as Visual Studio, VSCode, \u000b",
    "PyCharm, etc.) has one\n",
    "* Most important concepts\n",
    "    * Breakpoints\n",
    "    * Step into, step over, step out\n",
    "        * These usually have keyboard shortcuts assigned\n",
    "    * Variable inspection\n",
    "    * Interactive window; terminal\n",
    "    * Call stack"
   ]
  },
  {
   "attachments": {},
   "cell_type": "markdown",
   "id": "bacf9eb4",
   "metadata": {},
   "source": [
    "## Unit Testing\n",
    "\n",
    "* Debugging and testing are very scientific processes\n",
    "    * Intuitive for most people with math / science background\n",
    "* Can show bugs in the code\n",
    "    * Cannot show the code is bug-free!\n",
    "    * \"Absence of evidence is not evidence of absence\"\n",
    "* Unit tests: pieces of code that test other pieces of code\n",
    "* Unit test layout: AAA (Arrange, Act, Assert)"
   ]
  },
  {
   "cell_type": "code",
   "execution_count": 23,
   "id": "665f94db",
   "metadata": {},
   "outputs": [],
   "source": [
    "def sum_numbers(a, b):\n",
    "    return a + b\n",
    "def test_sum_with_zeros():\n",
    "    #Arrange\n",
    "    a = 0\n",
    "    b = 0\n",
    "    #Act\n",
    "    result = sum_numbers(a, b)\n",
    "    #Assert\n",
    "    assert result == 0\n",
    "    \n",
    "test_sum_with_zeros()"
   ]
  },
  {
   "attachments": {},
   "cell_type": "markdown",
   "id": "e42d31bd",
   "metadata": {},
   "source": [
    "## Other Types of Tests\n",
    "\n",
    "* Unit testing ensures our functions work\n",
    "* There are many more types of tests\n",
    "    * Software: integration tests, regression tests, system tests, security tests, etc.\n",
    "    * Data validation tests – these ensure correct formats of the data\n",
    "* Statistical tests\n",
    "    * Is my hypothesis (or data model) true?\n",
    "    * Example: for linear regression ⇒ 𝑅^2\n",
    "    * Another example: train / test set in machine learning\n",
    "    * \"Sanity checks\"\n",
    "    * Plotting graphs, comparisons, etc.\n",
    "* It's absolutely important to check most (if not all) of our steps"
   ]
  },
  {
   "attachments": {},
   "cell_type": "markdown",
   "id": "0dfde96d",
   "metadata": {},
   "source": [
    "## Performance Tests\n",
    "\n",
    "* Test how fast a code executes\n",
    "    * Better: test the code complexity with different arguments\n",
    "        * Possibly, plot the results\n",
    "    * We can use the time library\n",
    "* Important: be careful how you check the time\n",
    "    * Average execution over multiple trials to reduce random errors\n",
    "    * Do not include initializations and \"external\" code\n",
    "        * Code that you’re not interested in optimizing\n",
    "* Do not optimize prematurely!"
   ]
  },
  {
   "cell_type": "code",
   "execution_count": 26,
   "id": "81217336",
   "metadata": {},
   "outputs": [
    {
     "name": "stdout",
     "output_type": "stream",
     "text": [
      "0.0011661052703857422\n"
     ]
    }
   ],
   "source": [
    "start = time.time()\n",
    "for i in range(1000):\n",
    "    sum(numbers)\n",
    "stop = time.time()\n",
    "print(stop - start)"
   ]
  },
  {
   "cell_type": "code",
   "execution_count": null,
   "id": "cb7301ae",
   "metadata": {},
   "outputs": [],
   "source": []
  },
  {
   "cell_type": "code",
   "execution_count": null,
   "id": "042d8d60",
   "metadata": {},
   "outputs": [],
   "source": []
  }
 ],
 "metadata": {
  "kernelspec": {
   "display_name": "Python 3 (ipykernel)",
   "language": "python",
   "name": "python3"
  },
  "language_info": {
   "codemirror_mode": {
    "name": "ipython",
    "version": 3
   },
   "file_extension": ".py",
   "mimetype": "text/x-python",
   "name": "python",
   "nbconvert_exporter": "python",
   "pygments_lexer": "ipython3",
   "version": "3.9.13"
  }
 },
 "nbformat": 4,
 "nbformat_minor": 5
}
